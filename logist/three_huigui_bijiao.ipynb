{
 "cells": [
  {
   "cell_type": "code",
   "execution_count": 1,
   "metadata": {},
   "outputs": [
    {
     "data": {
      "text/plain": [
       "(50, 200)"
      ]
     },
     "execution_count": 1,
     "metadata": {},
     "output_type": "execute_result"
    }
   ],
   "source": [
    "import numpy as np\n",
    "import sklearn\n",
    "import matplotlib.pyplot as plt\n",
    "import pandas as pd\n",
    "%matplotlib inline\n",
    "from sklearn.linear_model import LinearRegression #线性回归\n",
    "import sklearn.datasets as datasets #自带数据\n",
    "from sklearn.linear_model import Ridge\n",
    "from sklearn.linear_model import Lasso #拉格朗日回归\n",
    "from sklearn.metrics import r2_score #评分\n",
    "\n",
    "np.random.seed(37) #随机数种子\n",
    "n_train, n_test = 50, 200 #训练与测试的数量\n",
    "x = np.random.randn(n_train, n_test) #50*200\n",
    "x.shape"
   ]
  },
  {
   "cell_type": "code",
   "execution_count": 2,
   "metadata": {},
   "outputs": [
    {
     "data": {
      "text/plain": [
       "array([ 0.40164626, -2.88435827, -0.31115099, -0.43702925, -3.15206512,\n",
       "        3.99781144, -4.77690905, -0.80540354, -6.65064779,  0.87568968,\n",
       "       -3.62778132, -7.34717777, -1.21766104, -4.991616  , -4.17109813,\n",
       "       -2.82026204,  3.32877812, -0.77157946,  3.84342189, -1.03614146,\n",
       "       -2.3812229 , -1.93099988, -0.56411832,  2.65054157, -2.00079819,\n",
       "        2.44572975, -3.96356238,  3.86405413,  4.2940685 ,  0.69259362,\n",
       "        2.35805072,  2.19867369, -2.34050054, -1.37451572,  0.60084093,\n",
       "        0.35329683, -3.14464511,  3.52830815,  4.66204479, -0.55362433,\n",
       "        2.67794239, -0.12925744,  3.66246134,  4.11972891,  2.12595011,\n",
       "       -0.97043228,  0.53345187, -0.82563634,  5.69446629, -3.13155387,\n",
       "        0.48751645,  0.21599672, -1.61801993, -7.0150671 ,  0.68415534,\n",
       "        0.23326555, -1.6483053 ,  6.12291638, -2.57316214, -0.11273205,\n",
       "       -4.8372546 , -1.52426997,  1.90855083,  6.48199442, -2.57811726,\n",
       "       -5.04107789,  1.04658919, -2.68161967,  0.92681944, -2.16018533,\n",
       "        2.66714677, -3.76089313, -1.42116416,  0.17768533,  0.50470071,\n",
       "       -3.32911352, -4.60751262, -2.25749208,  5.11517459, -0.40004286,\n",
       "       -4.0647134 , -2.53287569,  5.60994555, -2.22418969, -0.71163262,\n",
       "        0.74771205, -0.76802535,  4.93395783,  1.2817154 ,  0.26920264,\n",
       "       -0.88236038,  0.01375595, -0.26171012, -1.48707704,  0.63438604,\n",
       "       -0.19608904, -5.07718409,  1.13133931,  5.99901297, -1.90319918,\n",
       "       -5.04485685,  3.20516451,  4.85756658,  2.51716241, -3.34220941,\n",
       "       -0.69086338,  3.36917403,  2.63056823,  2.15242399,  0.50966011,\n",
       "       -0.73650396, -0.63082017, -0.1142756 ,  1.93509143, -2.46750827,\n",
       "        1.86490524,  0.28039181,  5.73274154, -3.59116217, -2.27270576,\n",
       "        2.39829463, -1.22642991,  1.61435516,  4.58292004,  4.82937551,\n",
       "        1.46521273, -0.1182887 ,  0.80798718, -2.95015877, -0.49238486,\n",
       "        0.2682335 ,  2.23268093, -2.46268334,  0.29799326,  0.99761722,\n",
       "        3.34485693, -2.96947896,  1.87809677, -0.11791895,  0.30495608,\n",
       "        8.4186512 , -0.77219081, -0.62974841,  1.98409339,  4.58790679,\n",
       "        2.5695869 ,  3.33659804, -0.31016341,  0.7426226 ,  1.55466596,\n",
       "       -0.14290263, -0.20204712, -0.68563495,  1.35146765, -2.79057294,\n",
       "        5.91666025, -5.37521226, -1.04235488, -2.28262322,  0.34771085,\n",
       "       -4.36919918,  0.57198314,  1.32371445,  4.24722572, -6.6354405 ,\n",
       "       -1.80208355,  2.00495971, -3.10174582,  1.54986347, -2.27510269,\n",
       "        1.3335238 , -7.44176316, -4.03227336, -1.39430188, -0.75073582,\n",
       "       -1.19182459,  2.08993541, -1.61445168, -1.37036725,  3.0691264 ,\n",
       "       -6.14546274, -2.61610691,  3.30934647, -4.67023962, -3.59152084,\n",
       "        2.82334166,  2.26237416, -1.75586142, -3.10230296,  1.46514631,\n",
       "        4.3483585 , -1.54069306, -0.72551819,  5.40860625,  1.13617557,\n",
       "        0.63952972,  0.72768139,  0.05106899, -1.06866927, -0.22749232])"
      ]
     },
     "execution_count": 2,
     "metadata": {},
     "output_type": "execute_result"
    }
   ],
   "source": [
    "coef = 3 * np.random.randn(n_test)\n",
    "coef"
   ]
  },
  {
   "cell_type": "code",
   "execution_count": 3,
   "metadata": {},
   "outputs": [
    {
     "data": {
      "text/plain": [
       "(200,)"
      ]
     },
     "execution_count": 3,
     "metadata": {},
     "output_type": "execute_result"
    }
   ],
   "source": [
    "coef.shape"
   ]
  },
  {
   "cell_type": "code",
   "execution_count": 4,
   "metadata": {},
   "outputs": [
    {
     "data": {
      "text/plain": [
       "array([  0,   1,   2,   3,   4,   5,   6,   7,   8,   9,  10,  11,  12,\n",
       "        13,  14,  15,  16,  17,  18,  19,  20,  21,  22,  23,  24,  25,\n",
       "        26,  27,  28,  29,  30,  31,  32,  33,  34,  35,  36,  37,  38,\n",
       "        39,  40,  41,  42,  43,  44,  45,  46,  47,  48,  49,  50,  51,\n",
       "        52,  53,  54,  55,  56,  57,  58,  59,  60,  61,  62,  63,  64,\n",
       "        65,  66,  67,  68,  69,  70,  71,  72,  73,  74,  75,  76,  77,\n",
       "        78,  79,  80,  81,  82,  83,  84,  85,  86,  87,  88,  89,  90,\n",
       "        91,  92,  93,  94,  95,  96,  97,  98,  99, 100, 101, 102, 103,\n",
       "       104, 105, 106, 107, 108, 109, 110, 111, 112, 113, 114, 115, 116,\n",
       "       117, 118, 119, 120, 121, 122, 123, 124, 125, 126, 127, 128, 129,\n",
       "       130, 131, 132, 133, 134, 135, 136, 137, 138, 139, 140, 141, 142,\n",
       "       143, 144, 145, 146, 147, 148, 149, 150, 151, 152, 153, 154, 155,\n",
       "       156, 157, 158, 159, 160, 161, 162, 163, 164, 165, 166, 167, 168,\n",
       "       169, 170, 171, 172, 173, 174, 175, 176, 177, 178, 179, 180, 181,\n",
       "       182, 183, 184, 185, 186, 187, 188, 189, 190, 191, 192, 193, 194,\n",
       "       195, 196, 197, 198, 199])"
      ]
     },
     "execution_count": 4,
     "metadata": {},
     "output_type": "execute_result"
    }
   ],
   "source": [
    "inds = np.arange(n_test)\n",
    "inds"
   ]
  },
  {
   "cell_type": "code",
   "execution_count": 5,
   "metadata": {},
   "outputs": [
    {
     "data": {
      "text/plain": [
       "array([156, 116,  95, 119,  86, 103, 129, 191,  40, 183,  22, 179,  57,\n",
       "       195, 193, 142,  81, 100,  74, 182, 132,  25,  36, 177, 178,  67,\n",
       "        27,  77,  94, 149, 143, 189, 172, 139,  10, 117,  46,   2,  23,\n",
       "       171, 109, 190, 101,  75,   5, 127,  70,  18,  26, 153, 181,  41,\n",
       "       174,  58,  90,  78,  39,   0,  14, 148, 155, 124, 157,  44, 152,\n",
       "        79, 137, 108,  51, 115, 150, 118, 138, 131, 165,  87, 126,  88,\n",
       "        97, 130, 162,  45, 141,   7,  93, 134, 133,  99,  52,  32, 146,\n",
       "        13,  96,  42, 192,  66,  30,   6, 120, 144, 197,  53,  35, 114,\n",
       "       121,   3,  37, 170, 136,  11, 194,  24,  98,   1, 151,   4,  85,\n",
       "       106, 160, 180, 102, 169,  16,  55,  73,  17,   9, 128, 113,  48,\n",
       "        49,  91, 122, 176, 140, 123,  65, 188,  34, 164,  60, 175,  68,\n",
       "        59, 196,  56,   8,  89,  63,  69, 198, 199,  84,  83, 163, 112,\n",
       "        72,  28,  54,  76,  31,  71,  15,  82, 159, 125,  43, 154, 135,\n",
       "        64, 158, 110, 173,  47, 167,  20, 104, 184,  19, 111, 166, 147,\n",
       "        33,  29, 161, 107,  80, 105,  92,  61,  50, 185, 186, 145,  21,\n",
       "       187,  38, 168,  62,  12])"
      ]
     },
     "execution_count": 5,
     "metadata": {},
     "output_type": "execute_result"
    }
   ],
   "source": [
    "np.random.shuffle(inds) #将数据进行打乱\n",
    "inds"
   ]
  },
  {
   "cell_type": "code",
   "execution_count": 6,
   "metadata": {},
   "outputs": [
    {
     "data": {
      "text/plain": [
       "array([ 0.        ,  0.        ,  0.        ,  0.        ,  0.        ,\n",
       "        0.        ,  0.        ,  0.        ,  0.        ,  0.        ,\n",
       "        0.        ,  0.        ,  0.        ,  0.        ,  0.        ,\n",
       "        0.        ,  0.        ,  0.        ,  0.        ,  0.        ,\n",
       "        0.        ,  0.        ,  0.        ,  0.        ,  0.        ,\n",
       "        0.        ,  0.        ,  0.        ,  0.        ,  0.        ,\n",
       "        0.        ,  0.        ,  0.        ,  0.        ,  0.        ,\n",
       "        0.        ,  0.        ,  0.        ,  0.        ,  0.        ,\n",
       "        2.67794239,  0.        ,  0.        ,  0.        ,  0.        ,\n",
       "        0.        ,  0.        ,  0.        ,  0.        ,  0.        ,\n",
       "        0.        ,  0.        ,  0.        ,  0.        ,  0.        ,\n",
       "        0.        ,  0.        ,  0.        ,  0.        ,  0.        ,\n",
       "        0.        ,  0.        ,  0.        ,  0.        ,  0.        ,\n",
       "        0.        ,  0.        ,  0.        ,  0.        ,  0.        ,\n",
       "        0.        ,  0.        ,  0.        ,  0.        ,  0.        ,\n",
       "        0.        ,  0.        ,  0.        ,  0.        ,  0.        ,\n",
       "        0.        ,  0.        ,  0.        ,  0.        ,  0.        ,\n",
       "        0.        , -0.76802535,  0.        ,  0.        ,  0.        ,\n",
       "        0.        ,  0.        ,  0.        ,  0.        ,  0.        ,\n",
       "       -0.19608904,  0.        ,  0.        ,  0.        ,  0.        ,\n",
       "        0.        ,  0.        ,  0.        ,  2.51716241,  0.        ,\n",
       "        0.        ,  0.        ,  0.        ,  0.        ,  0.        ,\n",
       "        0.        ,  0.        ,  0.        ,  0.        ,  0.        ,\n",
       "        0.        ,  0.28039181,  0.        ,  0.        , -2.27270576,\n",
       "        0.        ,  0.        ,  0.        ,  0.        ,  0.        ,\n",
       "        0.        ,  0.        ,  0.        ,  0.        , -0.49238486,\n",
       "        0.        ,  0.        ,  0.        ,  0.        ,  0.        ,\n",
       "        0.        ,  0.        ,  0.        ,  0.        ,  0.        ,\n",
       "        0.        ,  0.        ,  0.        ,  0.        ,  0.        ,\n",
       "        0.        ,  0.        ,  0.        ,  0.        ,  0.        ,\n",
       "        0.        ,  0.        ,  0.        ,  0.        ,  0.        ,\n",
       "        0.        , -5.37521226,  0.        ,  0.        ,  0.        ,\n",
       "        0.        ,  0.        ,  0.        ,  0.        ,  0.        ,\n",
       "        0.        ,  0.        ,  0.        ,  0.        ,  0.        ,\n",
       "        0.        ,  0.        ,  0.        ,  0.        ,  0.        ,\n",
       "        0.        ,  0.        ,  0.        ,  0.        ,  0.        ,\n",
       "        0.        ,  0.        ,  0.        , -4.67023962,  0.        ,\n",
       "        0.        ,  0.        ,  0.        ,  0.        ,  0.        ,\n",
       "        0.        , -1.54069306,  0.        ,  0.        ,  0.        ,\n",
       "        0.        ,  0.        ,  0.        ,  0.        ,  0.        ])"
      ]
     },
     "execution_count": 6,
     "metadata": {},
     "output_type": "execute_result"
    }
   ],
   "source": [
    "coef[inds[10:]] = 0\n",
    "coef"
   ]
  },
  {
   "cell_type": "code",
   "execution_count": 7,
   "metadata": {},
   "outputs": [
    {
     "data": {
      "text/plain": [
       "array([  6.73989521,   3.77244866,  12.03040491, -13.53420115,\n",
       "        15.67823865,  -0.91844959,  -1.07780257,  -2.78426929,\n",
       "         6.6917913 ,   1.61048477,  -8.13375279,   6.59982246,\n",
       "        -4.64860745,   0.49340422,  14.46109759,   7.89713032,\n",
       "         1.47124375,  14.29991892,   4.58373198,   0.37326038,\n",
       "         3.03089523,  -1.81020598,  -3.55869061,  -0.33792151,\n",
       "        -2.98136973,   0.42735401,   0.82242193,   9.10532455,\n",
       "        10.45363067,   9.19143296,  -4.52918511,   3.64042919,\n",
       "       -12.58507528,   7.27324362,   6.90685325,   1.45392998,\n",
       "        11.82678909,   0.35631065,  -5.86614729,   4.36098867,\n",
       "        -3.64095881,   2.19608829,   1.10115916,  -8.90037891,\n",
       "         3.75729202,  -8.63074149,  12.61706462,   6.12034282,\n",
       "       -18.56688161, -11.42118679])"
      ]
     },
     "execution_count": 7,
     "metadata": {},
     "output_type": "execute_result"
    }
   ],
   "source": [
    "#目标值\n",
    "y = np.dot(x, coef)\n",
    "y"
   ]
  },
  {
   "cell_type": "code",
   "execution_count": 8,
   "metadata": {},
   "outputs": [
    {
     "data": {
      "text/plain": [
       "array([  7.2362145 ,   4.26876795,  12.52672421, -13.03788185,\n",
       "        16.17455795,  -0.42213029,  -0.58148327,  -2.28795   ,\n",
       "         7.1881106 ,   2.10680407,  -7.63743349,   7.09614176,\n",
       "        -4.15228815,   0.98972351,  14.95741689,   8.39344962,\n",
       "         1.96756304,  14.79623822,   5.08005128,   0.86957968,\n",
       "         3.52721452,  -1.31388668,  -3.06237132,   0.15839778,\n",
       "        -2.48505044,   0.92367331,   1.31874123,   9.60164385,\n",
       "        10.94994997,   9.68775226,  -4.03286581,   4.13674848,\n",
       "       -12.08875598,   7.76956292,   7.40317254,   1.95024927,\n",
       "        12.32310838,   0.85262995,  -5.369828  ,   4.85730796,\n",
       "        -3.14463952,   2.69240758,   1.59747845,  -8.40405962,\n",
       "         4.25361132,  -8.1344222 ,  13.11338392,   6.61666211,\n",
       "       -18.07056231, -10.9248675 ])"
      ]
     },
     "execution_count": 8,
     "metadata": {},
     "output_type": "execute_result"
    }
   ],
   "source": [
    "y  += 0.01 * np.random.normal((n_train,)) #将y也变乱\n",
    "y"
   ]
  },
  {
   "cell_type": "code",
   "execution_count": 10,
   "metadata": {},
   "outputs": [
    {
     "data": {
      "text/plain": [
       "-0.06870528878727145"
      ]
     },
     "execution_count": 10,
     "metadata": {},
     "output_type": "execute_result"
    }
   ],
   "source": [
    "x_train = x[:30] # :左边表示取所有的行\n",
    "y_train = y[:30] #:右边表示\n",
    "x_test = x[30:]\n",
    "y_test = y[30:]\n",
    "# 线性回归\n",
    "lnr = LinearRegression()\n",
    "lnr.fit(x_train, y_train) #训练\n",
    "y_newlnr = lnr.predict(x_test) #预测\n",
    "r2_score(y_test, y_newlnr) #评分"
   ]
  },
  {
   "cell_type": "code",
   "execution_count": 12,
   "metadata": {},
   "outputs": [
    {
     "name": "stderr",
     "output_type": "stream",
     "text": [
      "e:\\anaconda3\\lib\\site-packages\\scipy\\linalg\\basic.py:40: RuntimeWarning: scipy.linalg.solve\n",
      "Ill-conditioned matrix detected. Result is not guaranteed to be accurate.\n",
      "Reciprocal condition number/precision: 5.054732788794616e-18 / 1.1102230246251565e-16\n",
      "  RuntimeWarning)\n"
     ]
    },
    {
     "data": {
      "text/plain": [
       "-0.07243215739989406"
      ]
     },
     "execution_count": 12,
     "metadata": {},
     "output_type": "execute_result"
    }
   ],
   "source": [
    "# 岭回归\n",
    "ridge = Ridge(alpha=0)\n",
    "ridge.fit(x_train, y_train)\n",
    "y_newridge = ridge.predict(x_test)\n",
    "r2_score(y_test, y_newridge) #评分"
   ]
  },
  {
   "cell_type": "code",
   "execution_count": 13,
   "metadata": {},
   "outputs": [
    {
     "data": {
      "text/plain": [
       "0.48173274573803904"
      ]
     },
     "execution_count": 13,
     "metadata": {},
     "output_type": "execute_result"
    }
   ],
   "source": [
    "# lasso回归\n",
    "lasso = Lasso()\n",
    "lasso.fit(x_train, y_train)\n",
    "y_newlasso = lasso.predict(x_test)\n",
    "r2_score(y_test, y_newlasso)"
   ]
  },
  {
   "cell_type": "code",
   "execution_count": 15,
   "metadata": {},
   "outputs": [
    {
     "data": {
      "image/png": "[encoded data removed]",
      "text/plain": [
       "<Figure size 864x576 with 4 Axes>"
      ]
     },
     "metadata": {},
     "output_type": "display_data"
    }
   ],
   "source": [
    "plt.figure(figsize=(12,8))\n",
    "plt.subplot(2,2,1)\n",
    "plt.plot(lnr.coef_, color=\"black\", lw=2, label=\"LinearRegression\")\n",
    "plt.legend()\n",
    "plt.subplot(2,2,2)\n",
    "plt.plot(ridge.coef_, color=\"red\", lw=2, label=\"ridge\")\n",
    "plt.legend()\n",
    "plt.subplot(2,2,3)\n",
    "plt.plot(lasso.coef_, color=\"yellow\", lw=2, label=\"lasso\")\n",
    "plt.legend()\n",
    "plt.subplot(2,2,4)\n",
    "plt.plot(coef, color=\"green\", lw=2, label=\"base data\")\n",
    "plt.legend()\n",
    "plt.show()"
   ]
  },
  {
   "cell_type": "code",
   "execution_count": null,
   "metadata": {},
   "outputs": [],
   "source": []
  }
 ],
 "metadata": {
  "kernelspec": {
   "display_name": "Python 3",
   "language": "python",
   "name": "python3"
  },
  "language_info": {
   "codemirror_mode": {
    "name": "ipython",
    "version": 3
   },
   "file_extension": ".py",
   "mimetype": "text/x-python",
   "name": "python",
   "nbconvert_exporter": "python",
   "pygments_lexer": "ipython3",
   "version": "3.6.4"
  }
 },
 "nbformat": 4,
 "nbformat_minor": 2
}
