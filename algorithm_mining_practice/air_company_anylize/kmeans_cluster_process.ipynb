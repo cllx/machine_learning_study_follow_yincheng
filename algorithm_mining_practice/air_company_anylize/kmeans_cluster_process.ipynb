{
 "cells": [
  {
   "cell_type": "code",
   "execution_count": 2,
   "metadata": {},
   "outputs": [
    {
     "name": "stdout",
     "output_type": "stream",
     "text": [
      "[2 2 2 ... 2 2 2]\n",
      "[[-7.00800234e-01 -4.15154033e-01 -1.60624730e-01 -1.60331161e-01\n",
      "  -2.57153986e-01]\n",
      " [ 4.92317253e-02 -2.15864518e-03 -2.31974796e-01 -2.36275225e-01\n",
      "   2.17442546e+00]\n",
      " [ 1.16037972e+00 -3.77413767e-01 -8.70099635e-02 -9.50177402e-02\n",
      "  -1.58446960e-01]\n",
      " [ 4.83476474e-01 -7.99417769e-01  2.48236495e+00  2.42356419e+00\n",
      "   3.09430418e-01]\n",
      " [-3.13850993e-01  1.68686937e+00 -5.73837004e-01 -5.36589732e-01\n",
      "  -1.72926840e-01]]\n"
     ]
    }
   ],
   "source": [
    "# 使用聚类算法分析航空公司数据\n",
    "import pandas as pd\n",
    "from sklearn.cluster import KMeans #聚类\n",
    "\n",
    "if __name__ == \"__main__\":\n",
    "    inputfile = \"zscoredata_new.xls\"\n",
    "    k = 5 #设置5个分类\n",
    "    data = pd.read_excel(inputfile) #读取数据\n",
    "    kmn = KMeans(n_clusters=k, n_jobs=4) #并发线程(多核)，等于CPU的倍数\n",
    "    kmn.fit(data)\n",
    "    print(kmn.labels_)\n",
    "    print(kmn.cluster_centers_)"
   ]
  },
  {
   "cell_type": "code",
   "execution_count": null,
   "metadata": {},
   "outputs": [],
   "source": []
  }
 ],
 "metadata": {
  "kernelspec": {
   "display_name": "Python 3",
   "language": "python",
   "name": "python3"
  },
  "language_info": {
   "codemirror_mode": {
    "name": "ipython",
    "version": 3
   },
   "file_extension": ".py",
   "mimetype": "text/x-python",
   "name": "python",
   "nbconvert_exporter": "python",
   "pygments_lexer": "ipython3",
   "version": "3.6.4"
  }
 },
 "nbformat": 4,
 "nbformat_minor": 2
}
