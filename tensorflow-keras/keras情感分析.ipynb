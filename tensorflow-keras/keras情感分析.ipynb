{
 "cells": [
  {
   "cell_type": "code",
   "execution_count": 1,
   "metadata": {},
   "outputs": [
    {
     "name": "stderr",
     "output_type": "stream",
     "text": [
      "e:\\anaconda3\\lib\\site-packages\\h5py\\__init__.py:36: FutureWarning: Conversion of the second argument of issubdtype from `float` to `np.floating` is deprecated. In future, it will be treated as `np.float64 == np.dtype(float).type`.\n",
      "  from ._conv import register_converters as _register_converters\n",
      "Using TensorFlow backend.\n",
      "e:\\anaconda3\\lib\\site-packages\\requests\\__init__.py:80: RequestsDependencyWarning: urllib3 (1.24.3) or chardet (3.0.4) doesn't match a supported version!\n",
      "  RequestsDependencyWarning)\n"
     ]
    },
    {
     "name": "stdout",
     "output_type": "stream",
     "text": [
      "   [1, 14, 22, 16, 43, 530, 973, 1622, 1385, 65, 458, 4468, 66, 3941, 4, 173, 36, 256, 5, 25, 100, 43, 838, 112, 50, 670, 22665, 9, 35, 480, 284, 5, 150, 4, 172, 112, 167, 21631, 336, 385, 39, 4, 172, 4536, 1111, 17, 546, 38, 13, 447, 4, 192, 50, 16, 6, 147, 2025, 19, 14, 22, 4, 1920, 4613, 469, 4, 22, 71, 87, 12, 16, 43, 530, 38, 76, 15, 13, 1247, 4, 22, 17, 515, 17, 12, 16, 626, 18, 19193, 5, 62, 386, 12, 8, 316, 8, 106, 5, 4, 2223, 5244, 16, 480, 66, 3785, 33, 4, 130, 12, 16, 38, 619, 5, 25, 124, 51, 36, 135, 48, 25, 1415, 33, 6, 22, 12, 215, 28, 77, 52, 5, 14, 407, 16, 82, 10311, 8, 4, 107, 117, 5952, 15, 256, 4, 31050, 7, 3766, 5, 723, 36, 71, 43, 530, 476, 26, 400, 317, 46, 7, 4, 12118, 1029, 13, 104, 88, 4, 381, 15, 297, 98, 32, 2071, 56, 26, 141, 6, 194, 7486, 18, 4, 226, 22, 21, 134, 476, 26, 480, 5, 144, 30, 5535, 18, 51, 36, 28, 224, 92, 25, 104, 4, 226, 65, 16, 38, 1334, 88, 12, 16, 283, 5, 16, 4472, 113, 103, 32, 15, 16, 5345, 19, 178, 32]\n"
     ]
    }
   ],
   "source": [
    "import keras\n",
    "import numpy as np\n",
    "from keras.datasets import imdb\n",
    "(x_train,y_train),(x_test,y_test) = imdb.load_data()\n",
    "print(\"  \",x_train[0])"
   ]
  },
  {
   "cell_type": "code",
   "execution_count": 2,
   "metadata": {},
   "outputs": [
    {
     "name": "stdout",
     "output_type": "stream",
     "text": [
      "   238.71364\n"
     ]
    },
    {
     "data": {
      "image/png": "[encoded data removed]",
      "text/plain": [
       "<Figure size 432x288 with 1 Axes>"
      ]
     },
     "metadata": {},
     "output_type": "display_data"
    }
   ],
   "source": [
    "avg_len = list(map(len,x_train))\n",
    "print(\"  \",np.mean(avg_len))\n",
    "import matplotlib.pyplot as plt\n",
    "%matplotlib inline\n",
    "plt.hist(avg_len,bins=range(min(avg_len),max(avg_len)+50,50))\n",
    "plt.show()"
   ]
  },
  {
   "cell_type": "code",
   "execution_count": 4,
   "metadata": {},
   "outputs": [
    {
     "name": "stdout",
     "output_type": "stream",
     "text": [
      "   (25000,) (25000,)\n",
      "   (25000,) (25000,)\n"
     ]
    }
   ],
   "source": [
    "print(\"  \",x_train.shape,y_train.shape)\n",
    "print(\"  \",x_test.shape,y_test.shape)"
   ]
  },
  {
   "cell_type": "code",
   "execution_count": 10,
   "metadata": {},
   "outputs": [
    {
     "name": "stdout",
     "output_type": "stream",
     "text": [
      "25000 25000\n",
      "   (25000, 80) (25000, 80)\n"
     ]
    }
   ],
   "source": [
    "from keras.preprocessing import sequence #句子序列\n",
    "from keras.models import Sequential #AI模型\n",
    "from keras.layers import Dense,Embedding #控制层\n",
    "from keras.layers import LSTM #RNN神经网络的一种\n",
    "from keras.datasets import imdb\n",
    "\n",
    "max_feature = 20000 #特征数量,最大的单词数量\n",
    "max_length = 80 #最大长度\n",
    "batch_size = 32 #批量大小\n",
    "(x_train,y_train),(x_test,y_test) = imdb.load_data(num_words=max_feature)\n",
    "print(len(x_train),len(x_test))\n",
    "x_train = sequence.pad_sequences(x_train,maxlen=max_length)\n",
    "x_test = sequence.pad_sequences(x_test,maxlen=max_length)\n",
    "print(\"  \",x_train.shape,x_test.shape) #形状"
   ]
  },
  {
   "cell_type": "code",
   "execution_count": 11,
   "metadata": {},
   "outputs": [
    {
     "name": "stdout",
     "output_type": "stream",
     "text": [
      "  train------------------------------\n",
      "Train on 25000 samples, validate on 25000 samples\n",
      "Epoch 1/5\n",
      "25000/25000 [==============================] - 258s 10ms/step - loss: 0.4611 - acc: 0.7829 - val_loss: 0.3826 - val_acc: 0.8341\n",
      "Epoch 2/5\n",
      "25000/25000 [==============================] - 255s 10ms/step - loss: 0.2946 - acc: 0.8810 - val_loss: 0.3736 - val_acc: 0.8359\n",
      "Epoch 3/5\n",
      "25000/25000 [==============================] - 255s 10ms/step - loss: 0.2155 - acc: 0.9148 - val_loss: 0.4062 - val_acc: 0.8325\n",
      "Epoch 4/5\n",
      "25000/25000 [==============================] - 251s 10ms/step - loss: 0.1493 - acc: 0.9435 - val_loss: 0.4719 - val_acc: 0.8253\n",
      "Epoch 5/5\n",
      "25000/25000 [==============================] - 235s 9ms/step - loss: 0.1085 - acc: 0.9595 - val_loss: 0.5457 - val_acc: 0.8248\n",
      "25000/25000 [==============================] - 35s 1ms/step\n",
      "  loss函数 0.5456564018583298 识别率 0.82484\n",
      "[[0.9617003 ]\n",
      " [0.16165401]\n",
      " [0.07356799]\n",
      " [0.49749687]\n",
      " [0.49749687]\n",
      " [0.53687376]\n",
      " [0.87918085]\n",
      " [0.09023346]\n",
      " [0.2101786 ]\n",
      " [0.3688176 ]\n",
      " [0.47591797]\n",
      " [0.57870686]\n",
      " [0.55213165]\n",
      " [0.5955756 ]\n",
      " [0.5459131 ]\n",
      " [0.5904159 ]\n",
      " [0.5560526 ]\n",
      " [0.8403253 ]\n",
      " [0.40589097]\n",
      " [0.8635999 ]\n",
      " [0.99160063]\n",
      " [0.5982072 ]\n",
      " [0.830636  ]\n",
      " [0.3688176 ]\n",
      " [0.50389916]\n",
      " [0.47591797]\n",
      " [0.5660576 ]\n",
      " [0.42481488]\n",
      " [0.4136286 ]\n",
      " [0.28447384]\n",
      " [0.39995828]\n",
      " [0.4136286 ]\n",
      " [0.5957236 ]\n",
      " [0.56600225]\n",
      " [0.17818347]\n",
      " [0.4967631 ]\n",
      " [0.98332787]\n",
      " [0.46491686]\n",
      " [0.19878793]\n",
      " [0.17511015]\n",
      " [0.52879614]\n",
      " [0.30736756]\n",
      " [0.5030054 ]\n",
      " [0.54300153]\n",
      " [0.6484898 ]\n",
      " [0.56600225]\n",
      " [0.78221226]\n",
      " [0.6681047 ]\n",
      " [0.799353  ]\n",
      " [0.50389916]\n",
      " [0.4004217 ]\n",
      " [0.21434173]\n",
      " [0.2529291 ]\n",
      " [0.26630753]\n",
      " [0.13568854]\n",
      " [0.3688176 ]\n",
      " [0.47591797]\n",
      " [0.90381783]\n",
      " [0.52879614]\n",
      " [0.38341314]\n",
      " [0.49749687]\n",
      " [0.49749687]\n",
      " [0.3952191 ]\n",
      " [0.4136286 ]\n",
      " [0.564391  ]\n",
      " [0.64893675]\n",
      " [0.56600225]\n",
      " [0.5929263 ]\n",
      " [0.4935451 ]\n",
      " [0.62967896]\n",
      " [0.8317845 ]\n",
      " [0.54300153]\n",
      " [0.25173175]\n",
      " [0.33351496]\n",
      " [0.56600225]\n",
      " [0.78067607]\n",
      " [0.66665894]\n",
      " [0.27952483]\n",
      " [0.52879614]\n",
      " [0.9533691 ]]\n"
     ]
    }
   ],
   "source": [
    "model = Sequential()\n",
    "model.add(Embedding(max_feature,128)) #嵌入层\n",
    "model.add(LSTM(128,dropout=0.2,recurrent_dropout=0.2)) #内部LSTM循环神经网络\n",
    "model.add(Dense(1,activation=\"sigmoid\")) #输出结果\n",
    "model.compile(loss=\"binary_crossentropy\", #损失最小\n",
    "              optimizer=\"adam\", #优化\n",
    "              metrics=[\"accuracy\"]) #精确\n",
    "print(\"  train------------------------------\")\n",
    "model.fit(x_train,y_train,\n",
    "          batch_size=batch_size, #批处理个数\n",
    "          epochs=5, #训练次数\n",
    "          validation_data=(x_test,y_test)) #训练\n",
    "score = model.evaluate(x_test,y_test,batch_size=batch_size)\n",
    "print(\"  loss函数\",score[0],\"识别率\",score[1])\n",
    "print(model.predict(x_test[1])) #预测的范例"
   ]
  },
  {
   "cell_type": "code",
   "execution_count": null,
   "metadata": {},
   "outputs": [],
   "source": []
  }
 ],
 "metadata": {
  "kernelspec": {
   "display_name": "Python 3",
   "language": "python",
   "name": "python3"
  },
  "language_info": {
   "codemirror_mode": {
    "name": "ipython",
    "version": 3
   },
   "file_extension": ".py",
   "mimetype": "text/x-python",
   "name": "python",
   "nbconvert_exporter": "python",
   "pygments_lexer": "ipython3",
   "version": "3.6.4"
  }
 },
 "nbformat": 4,
 "nbformat_minor": 2
}
