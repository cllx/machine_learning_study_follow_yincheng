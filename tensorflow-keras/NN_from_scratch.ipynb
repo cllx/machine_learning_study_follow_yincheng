{
 "cells": [
  {
   "cell_type": "markdown",
   "metadata": {
    "colab_type": "text",
    "id": "Y2ak-Wm2jQQM"
   },
   "source": [
    "# Neural Networks in 100 lines of pure Python\n",
    "----\n",
    "\n",
    "> Can we build a Deep learning framework in pure Python and Numpy? Can we make it compact, clear and extendable? Let's set out to explore those ideas and see what we can create!\n",
    "\n",
    "This is the companion notebook for the blogpost at [eisenjulian.github.io/deep-learning-in-100-lines](https://eisenjulian.github.io/deep-learning-in-100-lines)"
   ]
  },
  {
   "cell_type": "markdown",
   "metadata": {
    "colab_type": "text",
    "id": "GSUIW7tnkPOW"
   },
   "source": [
    "## Imports"
   ]
  },
  {
   "cell_type": "code",
   "execution_count": 0,
   "metadata": {
    "colab": {},
    "colab_type": "code",
    "id": "ly9_vc0MjO1h"
   },
   "outputs": [],
   "source": [
    "import numpy as np\n",
    "import matplotlib.pyplot as plt"
   ]
  },
  {
   "cell_type": "markdown",
   "metadata": {
    "colab_type": "text",
    "id": "OqoF6CcwlCJa"
   },
   "source": [
    "## Base Classes"
   ]
  },
  {
   "cell_type": "code",
   "execution_count": 0,
   "metadata": {
    "colab": {},
    "colab_type": "code",
    "id": "lAbhmESmlBzX"
   },
   "outputs": [],
   "source": [
    "class Parameter():\n",
    "  def __init__(self, tensor):\n",
    "    self.tensor = tensor\n",
    "    self.gradient = np.zeros_like(self.tensor)\n",
    "\n",
    "class Layer:\n",
    "  def __init__(self):\n",
    "    self.parameters = []\n",
    "\n",
    "  def forward(self, X):\n",
    "    return X, lambda D: D\n",
    "\n",
    "  def build_param(self, tensor):\n",
    "    param = Parameter(tensor)\n",
    "    self.parameters.append(param)\n",
    "    return param\n",
    "\n",
    "  def update(self, optimizer):\n",
    "    for param in self.parameters: optimizer.update(param)\n",
    "\n",
    "class Linear(Layer):\n",
    "  def __init__(self, inputs, outputs):\n",
    "    super().__init__()\n",
    "    self.weights = self.build_param(np.random.randn(inputs, outputs) * np.sqrt(1 / inputs))\n",
    "    self.bias = self.build_param(np.zeros(outputs))\n",
    "    \n",
    "  def forward(self, X):\n",
    "    def backward(D):\n",
    "      self.weights.gradient += X.T @ D\n",
    "      self.bias.gradient += D.sum(axis=0)\n",
    "      return D @ self.weights.tensor.T\n",
    "    return X @ self.weights.tensor + self.bias.tensor, backward\n",
    "  \n",
    "class Sequential(Layer):\n",
    "  def __init__(self, *layers):\n",
    "    super().__init__()\n",
    "    self.layers = layers\n",
    "    for layer in layers:\n",
    "      self.parameters.extend(layer.parameters)\n",
    "    \n",
    "  def forward(self, X):\n",
    "    backprops = []\n",
    "    Y = X\n",
    "    for layer in self.layers:\n",
    "      Y, backprop = layer.forward(Y)\n",
    "      backprops.append(backprop)\n",
    "    def backward(D):\n",
    "      for backprop in reversed(backprops):\n",
    "        D = backprop(D)\n",
    "      return D\n",
    "    return Y, backward"
   ]
  },
  {
   "cell_type": "markdown",
   "metadata": {
    "colab_type": "text",
    "id": "Ac6nwf4ukZZx"
   },
   "source": [
    "## Activations"
   ]
  },
  {
   "cell_type": "code",
   "execution_count": 0,
   "metadata": {
    "colab": {},
    "colab_type": "code",
    "id": "vC6lVttikYJM"
   },
   "outputs": [],
   "source": [
    "class ReLu(Layer):\n",
    "  def forward(self, X):\n",
    "    mask = X > 0\n",
    "    return X * mask, lambda D: D * mask\n",
    "  \n",
    "class Sigmoid(Layer):\n",
    "  def forward(self, X):\n",
    "    S = 1 / (1 + np.exp(-X))\n",
    "    def backward(D):\n",
    "      return D * S * (1 - S)\n",
    "    return S, backward"
   ]
  },
  {
   "cell_type": "markdown",
   "metadata": {
    "colab_type": "text",
    "id": "XyuraOGtklfQ"
   },
   "source": [
    "## Loss Functions"
   ]
  },
  {
   "cell_type": "code",
   "execution_count": 0,
   "metadata": {
    "colab": {},
    "colab_type": "code",
    "id": "3nR3Eg6NkhcK"
   },
   "outputs": [],
   "source": [
    "def mse_loss(Y_, Y):\n",
    "  diff = Y_ - Y.reshape(Y_.shape)\n",
    "  return np.square(diff).mean(), 2 * diff / len(diff)\n",
    "  \n",
    "def ce_loss(Y_, Y):\n",
    "  num = np.exp(Y_)\n",
    "  den = num.sum(axis=1).reshape(-1, 1)\n",
    "  prob = num / den\n",
    "  log_den = np.log(den)\n",
    "  ce = np.inner(Y_ - log_den, Y)\n",
    "  return ce.mean(), Y - prob / len(Y)"
   ]
  },
  {
   "cell_type": "markdown",
   "metadata": {
    "colab_type": "text",
    "id": "hEcHgawgk19y"
   },
   "source": [
    "## Optimizers"
   ]
  },
  {
   "cell_type": "code",
   "execution_count": 0,
   "metadata": {
    "colab": {},
    "colab_type": "code",
    "id": "xMGcfMPsk1BY"
   },
   "outputs": [],
   "source": [
    "class SGDOptimizer():\n",
    "  def __init__(self, lr=0.1):\n",
    "    self.lr = lr\n",
    "\n",
    "  def update(self, param):\n",
    "    param.tensor -= self.lr * param.gradient\n",
    "    param.gradient.fill(0)"
   ]
  },
  {
   "cell_type": "markdown",
   "metadata": {
    "colab_type": "text",
    "id": "rSSoTX2Qk_Pa"
   },
   "source": [
    "## The training loop"
   ]
  },
  {
   "cell_type": "code",
   "execution_count": 0,
   "metadata": {
    "colab": {},
    "colab_type": "code",
    "id": "P7ISi92OydQA"
   },
   "outputs": [],
   "source": [
    "class Learner():\n",
    "  def __init__(self, model, loss, optimizer):\n",
    "    self.model = model\n",
    "    self.loss = loss\n",
    "    self.optimizer = optimizer\n",
    "      \n",
    "  def fit_batch(self, X, Y):\n",
    "    Y_, backward = self.model.forward(X)\n",
    "    L, D = self.loss(Y_, Y)\n",
    "    backward(D)\n",
    "    self.model.update(self.optimizer)\n",
    "    return L\n",
    "    \n",
    "  def fit(self, X, Y, epochs, bs):\n",
    "    losses = []\n",
    "    for epoch in range(epochs):\n",
    "      p = np.random.permutation(len(X))\n",
    "      L = 0\n",
    "      for i in range(0, len(X), bs):\n",
    "        X_batch = X[p[i:i + bs]]\n",
    "        Y_batch = Y[p[i:i + bs]]\n",
    "        L += self.fit_batch(X_batch, Y_batch)\n",
    "      losses.append(L)\n",
    "    return losses"
   ]
  },
  {
   "cell_type": "markdown",
   "metadata": {
    "colab_type": "text",
    "id": "Zw4lIkRUl4e6"
   },
   "source": [
    "## See it in action!"
   ]
  },
  {
   "cell_type": "code",
   "execution_count": 24,
   "metadata": {
    "colab": {
     "base_uri": "https://localhost:8080/",
     "height": 303
    },
    "colab_type": "code",
    "id": "lJ7UYX8ojnGY",
    "outputId": "ac2a23eb-2600-426c-a876-d0030f3ec462"
   },
   "outputs": [
    {
     "name": "stdout",
     "output_type": "stream",
     "text": [
      "Weight Matrix Error 0.00335477155136525\n",
      "Bias error 0.000815434306053131\n"
     ]
    },
    {
     "data": {
      "image/png": "[encoded data removed]",
      "text/plain": [
       "<Figure size 432x288 with 1 Axes>"
      ]
     },
     "metadata": {
      "tags": []
     },
     "output_type": "display_data"
    }
   ],
   "source": [
    "#@title A simple linear dataset\n",
    "num_features = 10 #@param {type:\"slider\", min:5, max:100, step:1}\n",
    "num_samples = 100 #@param {type:\"slider\", min:10, max:1000, step:1}\n",
    "epochs = 10 #@param {type:\"slider\", min:1, max:100, step:1}\n",
    "batch_size = 10 #@param {type:\"slider\", min:1, max:100, step:1}\n",
    "learning_rate = 0.05 #@param {type:\"slider\", min:0.001, max:1.0, step:0.001}\n",
    "\n",
    "m = Linear(num_features, 1)\n",
    "model = Sequential(m)\n",
    "l = Learner(model, mse_loss, SGDOptimizer(lr=learning_rate))\n",
    "X = np.random.randn(num_samples, num_features)\n",
    "W = np.random.randn(num_features, 1)\n",
    "B = np.random.randn(1)\n",
    "Y = X @ W + B + 0.01 * np.random.randn(num_samples, 1)\n",
    "plt.plot(l.fit(X, Y, epochs=epochs, bs=batch_size))\n",
    "print('Weight Matrix Error', np.linalg.norm(m.weights.tensor - W))\n",
    "print('Bias error', np.abs(m.bias.tensor - B)[0])"
   ]
  },
  {
   "cell_type": "code",
   "execution_count": 25,
   "metadata": {
    "colab": {
     "base_uri": "https://localhost:8080/",
     "height": 269
    },
    "colab_type": "code",
    "id": "06eP8TXJfvmP",
    "outputId": "84e427db-ff3d-4d34-d635-5dc10eb9c8a7"
   },
   "outputs": [
    {
     "data": {
      "image/png": "[encoded data removed]",
      "text/plain": [
       "<Figure size 432x288 with 1 Axes>"
      ]
     },
     "metadata": {
      "tags": []
     },
     "output_type": "display_data"
    }
   ],
   "source": [
    "#@title A non-linear dataset\n",
    "num_samples = 1000 #@param {type:\"slider\", min:100, max:10000, step:1}\n",
    "epochs = 50 #@param {type:\"slider\", min:1, max:200, step:1}\n",
    "\n",
    "one_layer_batch_size = 50 #@param {type:\"slider\", min:1, max:100, step:1}\n",
    "one_layer_learning_rate = 0.01 #@param {type:\"slider\", min:0.001, max:1.0, step:0.001}\n",
    "\n",
    "two_layer_batch_size = 50 #@param {type:\"slider\", min:1, max:100, step:1}\n",
    "two_layer_learning_rate = 0.3 #@param {type:\"slider\", min:0.001, max:1.0, step:0.001}\n",
    "hidden_neurons = 10 #@param {type:\"slider\", min:1, max:200, step:1}\n",
    "\n",
    "X = np.random.randn(num_samples, 2)\n",
    "Y = X[:, 0] * X[:, 1]\n",
    "\n",
    "losses1 = Learner(\n",
    "    Sequential(Linear(2, 1)), \n",
    "    mse_loss, \n",
    "    SGDOptimizer(lr=one_layer_learning_rate)\n",
    ").fit(X, Y, epochs=epochs, bs=one_layer_batch_size)\n",
    "\n",
    "losses2 = Learner(\n",
    "    Sequential(\n",
    "        Linear(2, hidden_neurons), \n",
    "        Sigmoid(), \n",
    "        Linear(hidden_neurons, 1)\n",
    "    ), \n",
    "    mse_loss, \n",
    "    SGDOptimizer(lr=two_layer_learning_rate)\n",
    ").fit(X, Y, epochs=epochs, bs=two_layer_batch_size)\n",
    "\n",
    "plt.plot(losses1)\n",
    "plt.plot(losses2)\n",
    "plt.legend(['1 Layer', '2 Layers'])\n",
    "plt.show()"
   ]
  },
  {
   "cell_type": "markdown",
   "metadata": {
    "colab_type": "text",
    "id": "NbzqxK0nnh9s"
   },
   "source": [
    "## Wrapping Up\n",
    "I hope you have found this educative, we only defined three types of layers and one loss function, so there's much more to be done. In a follow up post we will implement binary cross entropy loss as well as other non-linear activations to start building more expressive models. Stay tuned...\n",
    "Reach out on Twitter at [@eisenjulian](https://twitter.com/eisenjulian) for questions and requests. Thanks for reading!"
   ]
  }
 ],
 "metadata": {
  "colab": {
   "name": "NN from scratch.ipynb",
   "provenance": [],
   "toc_visible": true,
   "version": "0.3.2"
  },
  "kernelspec": {
   "display_name": "Python 3",
   "language": "python",
   "name": "python3"
  },
  "language_info": {
   "codemirror_mode": {
    "name": "ipython",
    "version": 3
   },
   "file_extension": ".py",
   "mimetype": "text/x-python",
   "name": "python",
   "nbconvert_exporter": "python",
   "pygments_lexer": "ipython3",
   "version": "3.6.4"
  }
 },
 "nbformat": 4,
 "nbformat_minor": 1
}
