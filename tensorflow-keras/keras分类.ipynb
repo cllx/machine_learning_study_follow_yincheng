{
 "cells": [
  {
   "cell_type": "code",
   "execution_count": 6,
   "metadata": {},
   "outputs": [
    {
     "name": "stderr",
     "output_type": "stream",
     "text": [
      "e:\\anaconda3\\lib\\site-packages\\keras\\models.py:939: UserWarning: The `nb_epoch` argument in `fit` has been renamed `epochs`.\n",
      "  warnings.warn('The `nb_epoch` argument in `fit` '\n"
     ]
    },
    {
     "name": "stdout",
     "output_type": "stream",
     "text": [
      "Epoch 1/5\n",
      "60000/60000 [==============================] - 6s 103us/step - loss: 0.3581 - acc: 0.8994\n",
      "Epoch 2/5\n",
      "60000/60000 [==============================] - 6s 108us/step - loss: 0.1969 - acc: 0.9426\n",
      "Epoch 3/5\n",
      "60000/60000 [==============================] - 6s 96us/step - loss: 0.1589 - acc: 0.9545\n",
      "Epoch 4/5\n",
      "60000/60000 [==============================] - 6s 96us/step - loss: 0.1361 - acc: 0.9604\n",
      "Epoch 5/5\n",
      "60000/60000 [==============================] - 6s 92us/step - loss: 0.1206 - acc: 0.9659\n",
      "10000/10000 [==============================] - 1s 57us/step\n",
      "[0.13840419037640095, 0.9614]\n"
     ]
    }
   ],
   "source": [
    "from keras.datasets import mnist\n",
    "import keras #深度学习框架\n",
    "import keras.models #模型\n",
    "from keras.models import Sequential #神经网络\n",
    "from keras.layers import Dense,Dropout,Flatten #处理神经网络层\n",
    "from keras.layers import Conv2D,MaxPooling2D #处理平面数据\n",
    "from keras import backend as K #处理结束\n",
    "import numpy as np\n",
    "from keras.utils import np_utils\n",
    "from keras.optimizers import RMSprop\n",
    "from keras.layers import Activation\n",
    "\n",
    "path='./MNIST_data/mnist.npz'\n",
    "f = np.load(path)\n",
    "x_train, y_train = f['x_train'], f['y_train'] #训练数据\n",
    "x_test, y_test = f['x_test'], f['y_test'] #测试数据\n",
    "x_train = x_train.reshape(x_train.shape[0],-1)/255 #调整形状，颜色0-255，百分处理\n",
    "x_test = x_test.reshape(x_test.shape[0],-1)/255\n",
    "y_train = np_utils.to_categorical(y_train,num_classes=10)\n",
    "y_test = np_utils.to_categorical(y_test,num_classes=10)\n",
    "# 建立模型\n",
    "model = Sequential([\n",
    "        Dense(32,input_dim=784), #一次训练32\n",
    "        Activation(\"relu\"), #隐藏层\n",
    "        Dense(10), #10代表10个输出\n",
    "        Activation(\"softmax\")] #输出层\n",
    ")\n",
    "rmsprop = RMSprop(lr=0.001,rho=0.9,epsilon=1e-8,decay=0) #优化参数\n",
    "model.compile(optimizer=rmsprop,\n",
    "              loss=\"categorical_crossentropy\", #损失函数最小\n",
    "              metrics=[\"accuracy\"] #精准\n",
    "             )\n",
    "model.fit(x_train,y_train,nb_epoch=5,batch_size=32) #训练\n",
    "print(model.evaluate(x_test,y_test)) #loss的数值，精确度"
   ]
  },
  {
   "cell_type": "code",
   "execution_count": null,
   "metadata": {},
   "outputs": [],
   "source": []
  }
 ],
 "metadata": {
  "kernelspec": {
   "display_name": "Python 3",
   "language": "python",
   "name": "python3"
  },
  "language_info": {
   "codemirror_mode": {
    "name": "ipython",
    "version": 3
   },
   "file_extension": ".py",
   "mimetype": "text/x-python",
   "name": "python",
   "nbconvert_exporter": "python",
   "pygments_lexer": "ipython3",
   "version": "3.6.4"
  }
 },
 "nbformat": 4,
 "nbformat_minor": 2
}
