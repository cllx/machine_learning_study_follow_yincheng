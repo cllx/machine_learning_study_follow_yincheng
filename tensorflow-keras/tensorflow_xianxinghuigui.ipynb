{
 "cells": [
  {
   "cell_type": "code",
   "execution_count": 5,
   "metadata": {},
   "outputs": [
    {
     "name": "stdout",
     "output_type": "stream",
     "text": [
      "[-0.61969979 -0.46688241  0.04723278  1.04894841  0.55298671  2.04234646\n",
      "  2.35407097  4.25459508  1.88878691  8.03402534  4.19556999  6.01239715\n",
      "  6.16266111  7.51411649  6.66751523  7.71652838  9.62382289  9.41554584\n",
      " 10.39421409 13.24822761] [ 1.05186556 -1.2224967   2.36384519  1.06833487  1.84957031  1.72934349\n",
      "  3.14698977  2.48367809  2.14380994  2.35819371  1.22642629  1.69135425\n",
      "  4.25187226  1.98637942  4.29744923  1.28751417  2.25644959  2.75090499\n",
      "  4.87590708  4.32608737]\n",
      "(20,) (20,)\n",
      "20\n"
     ]
    },
    {
     "data": {
      "image/png": "[encoded data removed]",
      "text/plain": [
       "<Figure size 432x288 with 1 Axes>"
      ]
     },
     "metadata": {},
     "output_type": "display_data"
    }
   ],
   "source": [
    "import tensorflow as tf\n",
    "import numpy as np\n",
    "import matplotlib.pyplot as plt\n",
    "#参数\n",
    "learning_rate = 0.01 #训练速度\n",
    "trainning_epochs = 1000 #训练次数\n",
    "display_step = 50 #显示速度\n",
    "train_x = np.linspace(0, 10, num=20) + np.random.randn(20) #数组，1维20个\n",
    "train_y = np.linspace(1, 4, num=20) + np.random.randn(20)\n",
    "print(train_x, train_y) #数据\n",
    "print(train_x.shape, train_y.shape) #形状\n",
    "n_samples = train_x.shape[0] #样本的数量\n",
    "print(n_samples)\n",
    "plt.scatter(train_x, train_y) #绘制散点图\n",
    "plt.show()"
   ]
  },
  {
   "cell_type": "code",
   "execution_count": 11,
   "metadata": {},
   "outputs": [
    {
     "name": "stdout",
     "output_type": "stream",
     "text": [
      "     -0.18899772 -0.0923434\n",
      "     -0.18899772 -0.0923434\n",
      "45.92347890178804\n",
      "  epoch 0 cost 4.1674514 W 0.1285965 B -0.04044673\n",
      "  epoch 100 cost 1.3142266 W 0.28544 B 0.6392669\n",
      "  epoch 200 cost 1.214136 W 0.25133723 B 0.9415365\n",
      "  epoch 300 cost 1.1918107 W 0.23545325 B 1.0823247\n",
      "  epoch 400 cost 1.1866828 W 0.22805513 B 1.147898\n",
      "  epoch 500 cost 1.1854378 W 0.22460914 B 1.1784415\n",
      "  epoch 600 cost 1.1851057 W 0.22300394 B 1.1926694\n",
      "  epoch 700 cost 1.1850051 W 0.2222566 B 1.1992934\n",
      "  epoch 800 cost 1.1849698 W 0.22190858 B 1.2023779\n",
      "  epoch 900 cost 1.184956 W 0.22174676 B 1.2038121\n",
      "执行ok\n",
      "平均偏差\n",
      "  平均偏差 1.1849499 W 0.22167134 B 1.2044808\n"
     ]
    },
    {
     "data": {
      "image/png": "[encoded data removed]",
      "text/plain": [
       "<Figure size 432x288 with 1 Axes>"
      ]
     },
     "metadata": {},
     "output_type": "display_data"
    },
    {
     "ename": "SystemExit",
     "evalue": "",
     "output_type": "error",
     "traceback": [
      "An exception has occurred, use %tb to see the full traceback.\n",
      "\u001b[1;31mSystemExit\u001b[0m\n"
     ]
    },
    {
     "name": "stderr",
     "output_type": "stream",
     "text": [
      "e:\\anaconda3\\lib\\site-packages\\IPython\\core\\interactiveshell.py:2918: UserWarning: To exit: use 'exit', 'quit', or Ctrl-D.\n",
      "  warn(\"To exit: use 'exit', 'quit', or Ctrl-D.\", stacklevel=1)\n"
     ]
    }
   ],
   "source": [
    "import tensorflow as tf\n",
    "X = tf.placeholder(\"float\")\n",
    "Y = tf.placeholder(\"float\")\n",
    "W = tf.Variable(np.random.randn(), name=\"weight\")\n",
    "B = tf.Variable(np.random.randn(), name=\"bias\")\n",
    "a = tf.constant(10) #常量\n",
    "init = tf.global_variables_initializer() #初始化\n",
    "def main(_):\n",
    "    with tf.Session() as sess:\n",
    "        sess.run(init) #初始化\n",
    "        print(\"    \",sess.run(W), sess.run(B)) #默认初始的值\n",
    "        y_pred = tf.add(tf.multiply(X, W), B) #先乘再加\n",
    "        sess.run(y_pred, feed_dict={X:0}) #赋值并计算\n",
    "        print(\"    \",sess.run(W), sess.run(B))\n",
    "        print(sess.run(tf.reduce_sum(train_y))) #求和的方式，降维\n",
    "        cost = tf.reduce_sum(tf.pow(y_pred-Y, 2))/n_samples #差的平方除以平均值，就是均方误差\n",
    "        optimzer = tf.train.GradientDescentOptimizer(learning_rate).minimize(cost) #梯度下降损失优化\n",
    "        tf.train.GradientDescentOptimizer(learning_rate) #设置训练参数\n",
    "        for epoch in range(trainning_epochs): #定义训练次数\n",
    "            for (x_t, y_t) in zip(train_x, train_y): #zip表示把一个一位数组变为二维数组，循环-train_x,train_y\n",
    "                sess.run(optimzer,feed_dict={X:x_t, Y:y_t})\n",
    "            if epoch%100 == 0: #没循环100次，显示\n",
    "                cost_t = sess.run(cost, feed_dict={X:train_x, Y:train_y}) #运行\n",
    "                print(\"  epoch\",epoch, \"cost\",cost_t, \"W\",sess.run(W), 'B',sess.run(B)) #训练的越多，cost越小\n",
    "        print(\"执行ok\")\n",
    "        training_cost = sess.run(cost,feed_dict={X:train_x, Y:train_y})\n",
    "        print(\"平均偏差\")\n",
    "        print(\"  平均偏差\",training_cost, \"W\",sess.run(W), 'B',sess.run(B))\n",
    "        plt.plot(train_x, train_y, \"ro\", label=\"old data\")\n",
    "        plt.plot(train_x, sess.run(W)*train_x+sess.run(B), label=\"fit data\")\n",
    "        plt.legend()\n",
    "        plt.show()\n",
    "if __name__ == \"__main__\":\n",
    "    tf.app.run() #执行过程"
   ]
  },
  {
   "cell_type": "code",
   "execution_count": null,
   "metadata": {},
   "outputs": [],
   "source": []
  }
 ],
 "metadata": {
  "kernelspec": {
   "display_name": "Python 3",
   "language": "python",
   "name": "python3"
  },
  "language_info": {
   "codemirror_mode": {
    "name": "ipython",
    "version": 3
   },
   "file_extension": ".py",
   "mimetype": "text/x-python",
   "name": "python",
   "nbconvert_exporter": "python",
   "pygments_lexer": "ipython3",
   "version": "3.6.4"
  }
 },
 "nbformat": 4,
 "nbformat_minor": 2
}
