{
 "cells": [
  {
   "cell_type": "code",
   "execution_count": 4,
   "metadata": {},
   "outputs": [
    {
     "name": "stdout",
     "output_type": "stream",
     "text": [
      "b'hello, TensorFlow!'\n",
      "b'hello, baby!'\n"
     ]
    },
    {
     "ename": "SystemExit",
     "evalue": "",
     "output_type": "error",
     "traceback": [
      "An exception has occurred, use %tb to see the full traceback.\n",
      "\u001b[1;31mSystemExit\u001b[0m\n"
     ]
    },
    {
     "name": "stderr",
     "output_type": "stream",
     "text": [
      "e:\\anaconda3\\lib\\site-packages\\IPython\\core\\interactiveshell.py:2918: UserWarning: To exit: use 'exit', 'quit', or Ctrl-D.\n",
      "  warn(\"To exit: use 'exit', 'quit', or Ctrl-D.\", stacklevel=1)\n"
     ]
    }
   ],
   "source": [
    "import numpy as np #numpy基础上构建tensorflow\n",
    "import sys #sys系统\n",
    "import os #执行系统功能\n",
    "import tensorflow as tf #别名tf\n",
    "\n",
    "FLAGS = tf.app.flags.FLAGS #标识，tensorflow是个框架，python控制执行\n",
    "# tf.app.flags.DEFINE_string('input_dir', '.', 'Input directory where training dataset and meta data are saved')\n",
    "# tf.app.flags.DEFINE_string('output_dir', '.', 'Output directory where output such as logs are saved.')\n",
    "# tf.app.flags.DEFINE_string('log_dir', '.', 'Model directory where final model files are saved')\n",
    "def main(_): #_代表参数\n",
    "    with tf.Session() as sess: #创建一个会话过程\n",
    "        welcome1 = sess.run(tf.constant('hello, TensorFlow!'))\n",
    "        welcome2 = sess.run(tf.constant('hello, baby!')) #tf.constant('hello, baby!')代表tensorflow的一个变量\n",
    "        print(welcome1)\n",
    "        print(welcome2)\n",
    "if __name__ == \"__main__\":\n",
    "    tf.app.run()"
   ]
  },
  {
   "cell_type": "code",
   "execution_count": 9,
   "metadata": {},
   "outputs": [
    {
     "name": "stdout",
     "output_type": "stream",
     "text": [
      "    [[12.]]\n"
     ]
    },
    {
     "ename": "SystemExit",
     "evalue": "",
     "output_type": "error",
     "traceback": [
      "An exception has occurred, use %tb to see the full traceback.\n",
      "\u001b[1;31mSystemExit\u001b[0m\n"
     ]
    },
    {
     "name": "stderr",
     "output_type": "stream",
     "text": [
      "e:\\anaconda3\\lib\\site-packages\\IPython\\core\\interactiveshell.py:2918: UserWarning: To exit: use 'exit', 'quit', or Ctrl-D.\n",
      "  warn(\"To exit: use 'exit', 'quit', or Ctrl-D.\", stacklevel=1)\n"
     ]
    }
   ],
   "source": [
    "# tensorflow乘法\n",
    "import tensorflow as tf\n",
    "mx1 = tf.constant([[3.0, 3.0]]) #1*2的二维数组\n",
    "mx2 = tf.constant([[2.0], [2.0]]) #2*1的二维数组\n",
    "product = tf.matmul(mx1, mx2) #乘法方法,product不是一个变量，而是一个函数\n",
    "def main(_):\n",
    "    with tf.Session() as sess: #会话过程\n",
    "        result = sess.run(product) #执行\n",
    "        print(\"   \",result)\n",
    "if __name__ == \"__main__\":\n",
    "    tf.app.run() #执行过程"
   ]
  },
  {
   "cell_type": "code",
   "execution_count": 11,
   "metadata": {},
   "outputs": [
    {
     "name": "stdout",
     "output_type": "stream",
     "text": [
      "<class 'tensorflow.python.ops.variables.RefVariable'>\n",
      "<class 'tensorflow.python.framework.ops.Tensor'>\n",
      "------ 10\n",
      "------ 1\n",
      "************ 11\n",
      "************ 12\n",
      "************ 13\n"
     ]
    },
    {
     "ename": "SystemExit",
     "evalue": "",
     "output_type": "error",
     "traceback": [
      "An exception has occurred, use %tb to see the full traceback.\n",
      "\u001b[1;31mSystemExit\u001b[0m\n"
     ]
    },
    {
     "name": "stderr",
     "output_type": "stream",
     "text": [
      "e:\\anaconda3\\lib\\site-packages\\IPython\\core\\interactiveshell.py:2918: UserWarning: To exit: use 'exit', 'quit', or Ctrl-D.\n",
      "  warn(\"To exit: use 'exit', 'quit', or Ctrl-D.\", stacklevel=1)\n"
     ]
    }
   ],
   "source": [
    "import tensorflow as tf\n",
    "state = tf.Variable(10, name=\"counter\") #定义一个变量初始化为1\n",
    "print(type(state))\n",
    "one = tf.constant(1) #定义一个常量,值1\n",
    "print(type(one))\n",
    "new_value = tf.add(state, one) #实现加法，new_value是一个函数\n",
    "update = tf.assign(state, new_value) #state=new_value，update是tensor函数\n",
    "init = tf.global_variables_initializer() #初始化全局变量方法\n",
    "def main(_):\n",
    "    with tf.Session() as sess:\n",
    "        sess.run(init) #初始化\n",
    "        print(\"------\", sess.run(state)) #打印状态(变量的值)\n",
    "        print(\"------\", sess.run(one)) #打印状态\n",
    "        for i in range(3):\n",
    "            sess.run(update)\n",
    "            print(\"************\", sess.run(state))\n",
    "if __name__ == \"__main__\":\n",
    "    tf.app.run() #执行过程"
   ]
  },
  {
   "cell_type": "code",
   "execution_count": 12,
   "metadata": {},
   "outputs": [
    {
     "name": "stdout",
     "output_type": "stream",
     "text": [
      "*********** [16.]\n"
     ]
    },
    {
     "ename": "SystemExit",
     "evalue": "",
     "output_type": "error",
     "traceback": [
      "An exception has occurred, use %tb to see the full traceback.\n",
      "\u001b[1;31mSystemExit\u001b[0m\n"
     ]
    },
    {
     "name": "stderr",
     "output_type": "stream",
     "text": [
      "e:\\anaconda3\\lib\\site-packages\\IPython\\core\\interactiveshell.py:2918: UserWarning: To exit: use 'exit', 'quit', or Ctrl-D.\n",
      "  warn(\"To exit: use 'exit', 'quit', or Ctrl-D.\", stacklevel=1)\n"
     ]
    }
   ],
   "source": [
    "import tensorflow as tf\n",
    "input1 = tf.placeholder(tf.float32) #两个变量，没有初始化，指定了类型\n",
    "input2 = tf.placeholder(tf.float32)\n",
    "output = tf.multiply(input1, input2) #输出\n",
    "def main(_):\n",
    "    with tf.Session() as sess: #会话过程\n",
    "        #pass\n",
    "        result = sess.run(output, feed_dict={input1:[8.0], input2:[2.0]}) #赋值后进行乘法\n",
    "        print(\"***********\", result)\n",
    "if __name__ == \"__main__\":\n",
    "    tf.app.run() #执行过程"
   ]
  },
  {
   "cell_type": "code",
   "execution_count": null,
   "metadata": {},
   "outputs": [],
   "source": []
  }
 ],
 "metadata": {
  "kernelspec": {
   "display_name": "Python 3",
   "language": "python",
   "name": "python3"
  },
  "language_info": {
   "codemirror_mode": {
    "name": "ipython",
    "version": 3
   },
   "file_extension": ".py",
   "mimetype": "text/x-python",
   "name": "python",
   "nbconvert_exporter": "python",
   "pygments_lexer": "ipython3",
   "version": "3.6.4"
  }
 },
 "nbformat": 4,
 "nbformat_minor": 2
}
