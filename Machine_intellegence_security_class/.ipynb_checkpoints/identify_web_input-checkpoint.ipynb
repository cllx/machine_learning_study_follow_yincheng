{
 "cells": [
  {
   "cell_type": "code",
   "execution_count": 1,
   "metadata": {},
   "outputs": [
    {
     "name": "stderr",
     "output_type": "stream",
     "text": [
      "e:\\anaconda3\\lib\\site-packages\\sklearn\\ensemble\\weight_boosting.py:29: DeprecationWarning: numpy.core.umath_tests is an internal NumPy module and should not be imported. It will be removed in a future NumPy release.\n",
      "  from numpy.core.umath_tests import inner1d\n"
     ]
    }
   ],
   "source": [
    "import pandas as pd\n",
    "import numpy as np\n",
    "import json\n",
    "import re\n",
    "from sklearn.model_selection import train_test_split\n",
    "import random\n",
    "from sklearn.ensemble import RandomForestClassifier\n",
    "from sklearn.feature_extraction.text import TfidfVectorizer #文本处理工具\n",
    "from sklearn.naive_bayes import MultinomialNB, GaussianNB #多项式和高斯\n",
    "from sklearn.neighbors import KNeighborsClassifier\n",
    "from sklearn.svm import SVC\n",
    "from sklearn.neural_network import MLPClassifier"
   ]
  },
  {
   "cell_type": "code",
   "execution_count": 2,
   "metadata": {},
   "outputs": [
    {
     "name": "stdout",
     "output_type": "stream",
     "text": [
      "          tag                                              value\n",
      "0     SQL注入攻击  /savehf.asp HTTP/1.1\\r\\nAccept: text/xml,appli...\n",
      "1     SQL注入攻击  /savehf.asp HTTP/1.1\\r\\nAccept: text/xml,appli...\n",
      "2     SQL注入攻击  /savehf.asp HTTP/1.1\\r\\nAccept: text/xml,appli...\n",
      "3     SQL注入攻击  /savehf.asp HTTP/1.1\\r\\nAccept: text/xml,appli...\n",
      "4     SQL注入攻击  /savehf.asp HTTP/1.1\\r\\nAccept: text/xml,appli...\n",
      "5     SQL注入攻击  /savehf.asp HTTP/1.1\\r\\nAccept: text/xml,appli...\n",
      "6     SQL注入攻击  /savehf.asp HTTP/1.1\\r\\nAccept: text/xml,appli...\n",
      "7     SQL注入攻击  /savehf.asp HTTP/1.1\\r\\nAccept: text/xml,appli...\n",
      "8     SQL注入攻击  /savehf.asp HTTP/1.1\\r\\nAccept: text/xml,appli...\n",
      "9     SQL注入攻击  /savehf.asp HTTP/1.1\\r\\nAccept: text/xml,appli...\n",
      "10    SQL注入攻击  /savehf.asp HTTP/1.1\\r\\nAccept: text/xml,appli...\n",
      "11    SQL注入攻击  /savehf.asp HTTP/1.1\\r\\nAccept: text/xml,appli...\n",
      "12    SQL注入攻击  /savehf.asp HTTP/1.1\\r\\nAccept: text/xml,appli...\n",
      "13    SQL注入攻击  /savehf.asp HTTP/1.1\\r\\nAccept: text/xml,appli...\n",
      "14    SQL注入攻击  /savehf.asp HTTP/1.1\\r\\nAccept: text/xml,appli...\n",
      "15    SQL注入攻击  /savehf.asp HTTP/1.1\\r\\nAccept: text/xml,appli...\n",
      "16    SQL注入攻击  /savehf.asp HTTP/1.1\\r\\nAccept: text/xml,appli...\n",
      "17    SQL注入攻击  /savehf.asp HTTP/1.1\\r\\nAccept: text/xml,appli...\n",
      "18    SQL注入攻击  /savehf.asp HTTP/1.1\\r\\nAccept: text/xml,appli...\n",
      "19    SQL注入攻击  /savehf.asp HTTP/1.1\\r\\nAccept: text/xml,appli...\n",
      "20    SQL注入攻击  /savehf.asp HTTP/1.1\\r\\nAccept: text/xml,appli...\n",
      "21    SQL注入攻击  /savehf.asp HTTP/1.1\\r\\nAccept: text/xml,appli...\n",
      "22    SQL注入攻击  /savehf.asp HTTP/1.1\\r\\nAccept: text/xml,appli...\n",
      "23    SQL注入攻击  /savehf.asp HTTP/1.1\\r\\nAccept: text/xml,appli...\n",
      "24    SQL注入攻击  /savehf.asp HTTP/1.1\\r\\nAccept: text/xml,appli...\n",
      "25    SQL注入攻击  /savehf.asp HTTP/1.1\\r\\nAccept: text/xml,appli...\n",
      "26    SQL注入攻击  /savehf.asp HTTP/1.1\\r\\nAccept: text/xml,appli...\n",
      "27    SQL注入攻击  /savehf.asp HTTP/1.1\\r\\nAccept: text/xml,appli...\n",
      "28    SQL注入攻击  /savehf.asp HTTP/1.1\\r\\nAccept: text/xml,appli...\n",
      "29    SQL注入攻击  /savehf.asp HTTP/1.1\\r\\nAccept: text/xml,appli...\n",
      "...       ...                                                ...\n",
      "9970  XSS跨站脚本  /wp-includes/js/tinymce/utils/backup/phpMyAdmi...\n",
      "9971  XSS跨站脚本  /wp-includes/js/tinymce/utils/backup/phpMyAdmi...\n",
      "9972  XSS跨站脚本  /wp-includes/js/tinymce/utils/backup/1.php?mAr...\n",
      "9973  XSS跨站脚本  /wp-includes/js/tinymce/utils/backup/1.php?Vzs...\n",
      "9974  XSS跨站脚本  /wp-includes/js/tinymce/utils/backup/1.php?mAr...\n",
      "9975  XSS跨站脚本  /wp-includes/js/tinymce/utils/backup/1.php?mAr...\n",
      "9976  XSS跨站脚本  /wp-includes/class-wp-http-curl.php HTTP/1.1\\r...\n",
      "9977  XSS跨站脚本  /wp-includes/js/tinymce/utils/backup/1.php?KX=...\n",
      "9978  XSS跨站脚本  /wp-includes/js/tinymce/utils/backup/1.php?qY8...\n",
      "9979  XSS跨站脚本  /wp-includes/js/tinymce/utils/backup/1.php?C19...\n",
      "9980  XSS跨站脚本  /wp-includes/js/tinymce/utils/backup/1.php?C19...\n",
      "9981  XSS跨站脚本  /wp-includes/js/tinymce/utils/backup/1.php?30c...\n",
      "9982  XSS跨站脚本  /wp-includes/js/tinymce/utils/backup/1.php?z1A...\n",
      "9983  XSS跨站脚本  /wp-includes/js/tinymce/utils/backup/1.php?cmz...\n",
      "9984  XSS跨站脚本  /wp-includes/js/tinymce/utils/backup/1.php?iya...\n",
      "9985  XSS跨站脚本  /wp-includes/js/tinymce/utils/backup/1.php?zod...\n",
      "9986  XSS跨站脚本  /wp-includes/class-wp-feed-cache.php HTTP/1.1\\...\n",
      "9987  XSS跨站脚本  /wp-includes/class-wp-feed-cache.php HTTP/1.1\\...\n",
      "9988  XSS跨站脚本  /wp-includes/class-wp-feed-cache.php HTTP/1.1\\...\n",
      "9989  XSS跨站脚本  /wp-includes/class-wp-feed-cache.php HTTP/1.1\\...\n",
      "9990  XSS跨站脚本  /wp-includes/class-wp-hook.php HTTP/1.1\\r\\nAcc...\n",
      "9991  XSS跨站脚本  /wp-includes/class-wp-hook.php HTTP/1.1\\r\\nAcc...\n",
      "9992  XSS跨站脚本  /wp-includes/class-wp-hook.php HTTP/1.1\\r\\nAcc...\n",
      "9993  XSS跨站脚本  /wp-includes/class-wp-hook.php HTTP/1.1\\r\\nAcc...\n",
      "9994  XSS跨站脚本  /assets/flash/zeroclipboard/ZeroClipboard.swf?...\n",
      "9995  XSS跨站脚本  /assets/swf/zeroclipboard/ZeroClipboard.swf?id...\n",
      "9996  XSS跨站脚本  /wp-content/plugins/woocommerce/assets/js/zero...\n",
      "9997  XSS跨站脚本  /wp-content/plugins/slidedeck2-personal/js/zer...\n",
      "9998  XSS跨站脚本  /wp-includes/js/tinymce/utils/backup/phpMyAdmi...\n",
      "9999  XSS跨站脚本  /wp-includes/js/tinymce/utils/backup/1.php?wx1...\n",
      "\n",
      "[10000 rows x 2 columns]\n"
     ]
    }
   ],
   "source": [
    "file = open('SQL+XSS.json','r')\n",
    "data = pd.DataFrame(columns=[\"tag\",\"value\"])\n",
    "index = 0\n",
    "for line in file.readlines():\n",
    "    str1 = json.loads(line)\n",
    "    str2 = str1['request_result']\n",
    "    str1 = str1['request']\n",
    "    # str1.startswith()判断是否以某个字符开始，str1.endswith()判断是否以某个字符结尾\n",
    "    if str1.startswith('POST'):\n",
    "        str1 = str1.split('POST ', 1)[1]\n",
    "    elif str1.startswith('GET'):\n",
    "        str1 = str1.split('GET ', 1)[1]\n",
    "    data_list = []\n",
    "    data_list.append(str2)\n",
    "    data_list.append(str1)\n",
    "#     data_df = pd.DataFrame(data_list)\n",
    "#     data = data.append(data_df)\n",
    "    data.loc[index] = data_list\n",
    "    index += 1\n",
    "print(data)\n",
    "file.close()"
   ]
  },
  {
   "cell_type": "code",
   "execution_count": 3,
   "metadata": {},
   "outputs": [
    {
     "name": "stdout",
     "output_type": "stream",
     "text": [
      "            tag                                              value\n",
      "0       SQL注入攻击  /savehf.asp HTTP/1.1\\r\\nAccept: text/xml,appli...\n",
      "1       SQL注入攻击  /savehf.asp HTTP/1.1\\r\\nAccept: text/xml,appli...\n",
      "2       SQL注入攻击  /savehf.asp HTTP/1.1\\r\\nAccept: text/xml,appli...\n",
      "3       SQL注入攻击  /savehf.asp HTTP/1.1\\r\\nAccept: text/xml,appli...\n",
      "4       SQL注入攻击  /savehf.asp HTTP/1.1\\r\\nAccept: text/xml,appli...\n",
      "5       SQL注入攻击  /savehf.asp HTTP/1.1\\r\\nAccept: text/xml,appli...\n",
      "6       SQL注入攻击  /savehf.asp HTTP/1.1\\r\\nAccept: text/xml,appli...\n",
      "7       SQL注入攻击  /savehf.asp HTTP/1.1\\r\\nAccept: text/xml,appli...\n",
      "8       SQL注入攻击  /savehf.asp HTTP/1.1\\r\\nAccept: text/xml,appli...\n",
      "9       SQL注入攻击  /savehf.asp HTTP/1.1\\r\\nAccept: text/xml,appli...\n",
      "10      SQL注入攻击  /savehf.asp HTTP/1.1\\r\\nAccept: text/xml,appli...\n",
      "11      SQL注入攻击  /savehf.asp HTTP/1.1\\r\\nAccept: text/xml,appli...\n",
      "12      SQL注入攻击  /savehf.asp HTTP/1.1\\r\\nAccept: text/xml,appli...\n",
      "13      SQL注入攻击  /savehf.asp HTTP/1.1\\r\\nAccept: text/xml,appli...\n",
      "14      SQL注入攻击  /savehf.asp HTTP/1.1\\r\\nAccept: text/xml,appli...\n",
      "15      SQL注入攻击  /savehf.asp HTTP/1.1\\r\\nAccept: text/xml,appli...\n",
      "16      SQL注入攻击  /savehf.asp HTTP/1.1\\r\\nAccept: text/xml,appli...\n",
      "17      SQL注入攻击  /savehf.asp HTTP/1.1\\r\\nAccept: text/xml,appli...\n",
      "18      SQL注入攻击  /savehf.asp HTTP/1.1\\r\\nAccept: text/xml,appli...\n",
      "19      SQL注入攻击  /savehf.asp HTTP/1.1\\r\\nAccept: text/xml,appli...\n",
      "20      SQL注入攻击  /savehf.asp HTTP/1.1\\r\\nAccept: text/xml,appli...\n",
      "21      SQL注入攻击  /savehf.asp HTTP/1.1\\r\\nAccept: text/xml,appli...\n",
      "22      SQL注入攻击  /savehf.asp HTTP/1.1\\r\\nAccept: text/xml,appli...\n",
      "23      SQL注入攻击  /savehf.asp HTTP/1.1\\r\\nAccept: text/xml,appli...\n",
      "24      SQL注入攻击  /savehf.asp HTTP/1.1\\r\\nAccept: text/xml,appli...\n",
      "25      SQL注入攻击  /savehf.asp HTTP/1.1\\r\\nAccept: text/xml,appli...\n",
      "26      SQL注入攻击  /savehf.asp HTTP/1.1\\r\\nAccept: text/xml,appli...\n",
      "27      SQL注入攻击  /savehf.asp HTTP/1.1\\r\\nAccept: text/xml,appli...\n",
      "28      SQL注入攻击  /savehf.asp HTTP/1.1\\r\\nAccept: text/xml,appli...\n",
      "29      SQL注入攻击  /savehf.asp HTTP/1.1\\r\\nAccept: text/xml,appli...\n",
      "...         ...                                                ...\n",
      "145477   normal                                         /~kmane/\\n\n",
      "145478   normal                          /javascript/surveys.pfx\\n\n",
      "145479   normal                           /predatorylendingmenu/\\n\n",
      "145480   normal                                      /615956790/\\n\n",
      "145481   normal                                        /mnumain/\\n\n",
      "145482   normal                                         /boiler/\\n\n",
      "145483   normal                                    /phil_jensen/\\n\n",
      "145484   normal                                  /1165080920206/\\n\n",
      "145485   normal  /dialogs/td.php?spaw_dir=http://192.168.202.11...\n",
      "145486   normal                            /javascript/crack.jpg\\n\n",
      "145487   normal                                    /topicbrowse/\\n\n",
      "145488   normal                                        /3419580/\\n\n",
      "145489   normal                                /hockey_software/\\n\n",
      "145490   normal                                        /n300967/\\n\n",
      "145491   normal                                     /20050808-9/\\n\n",
      "145492   normal                               /javascript/01.rss\\n\n",
      "145493   normal                            /procmail_mindspring/\\n\n",
      "145494   normal                                  /counter_image/\\n\n",
      "145495   normal                              /chinese valentine/\\n\n",
      "145496   normal                                   /churchspeaks/\\n\n",
      "145497   normal                                      /000026199/\\n\n",
      "145498   normal                  /mastering windows xp registry/\\n\n",
      "145499   normal                                        /6216848/\\n\n",
      "145500   normal                                      /euro-sepg/\\n\n",
      "145501   normal                                      /p0008798b/\\n\n",
      "145502   normal                                      /thepaintr/\\n\n",
      "145503   normal                                   /javascript/ie\\n\n",
      "145504   normal                                       /16526331/\\n\n",
      "145505   normal                                  /armycommander/\\n\n",
      "145506   normal                                   /jacksoniandemo1\n",
      "\n",
      "[145507 rows x 2 columns]\n"
     ]
    }
   ],
   "source": [
    "f = open('normal.txt', 'r')\n",
    "index = 10000\n",
    "for line in f.readlines():\n",
    "    data_list2 = []\n",
    "    data_list2.append(\"normal\")\n",
    "    data_list2.append(line)\n",
    "    data.loc[index] = data_list2\n",
    "    index += 1\n",
    "print(data)\n",
    "f.close()"
   ]
  },
  {
   "cell_type": "code",
   "execution_count": 4,
   "metadata": {},
   "outputs": [],
   "source": [
    "data.to_csv('./web_input.csv', header=True, index=False)"
   ]
  },
  {
   "cell_type": "code",
   "execution_count": 6,
   "metadata": {},
   "outputs": [
    {
     "data": {
      "text/plain": [
       "(145507, 2)"
      ]
     },
     "execution_count": 6,
     "metadata": {},
     "output_type": "execute_result"
    }
   ],
   "source": [
    "data.shape"
   ]
  },
  {
   "cell_type": "code",
   "execution_count": 8,
   "metadata": {},
   "outputs": [
    {
     "data": {
      "text/plain": [
       "0         /savehf.asp HTTP/1.1\\r\\nAccept: text/xml,appli...\n",
       "1         /savehf.asp HTTP/1.1\\r\\nAccept: text/xml,appli...\n",
       "2         /savehf.asp HTTP/1.1\\r\\nAccept: text/xml,appli...\n",
       "3         /savehf.asp HTTP/1.1\\r\\nAccept: text/xml,appli...\n",
       "4         /savehf.asp HTTP/1.1\\r\\nAccept: text/xml,appli...\n",
       "5         /savehf.asp HTTP/1.1\\r\\nAccept: text/xml,appli...\n",
       "6         /savehf.asp HTTP/1.1\\r\\nAccept: text/xml,appli...\n",
       "7         /savehf.asp HTTP/1.1\\r\\nAccept: text/xml,appli...\n",
       "8         /savehf.asp HTTP/1.1\\r\\nAccept: text/xml,appli...\n",
       "9         /savehf.asp HTTP/1.1\\r\\nAccept: text/xml,appli...\n",
       "10        /savehf.asp HTTP/1.1\\r\\nAccept: text/xml,appli...\n",
       "11        /savehf.asp HTTP/1.1\\r\\nAccept: text/xml,appli...\n",
       "12        /savehf.asp HTTP/1.1\\r\\nAccept: text/xml,appli...\n",
       "13        /savehf.asp HTTP/1.1\\r\\nAccept: text/xml,appli...\n",
       "14        /savehf.asp HTTP/1.1\\r\\nAccept: text/xml,appli...\n",
       "15        /savehf.asp HTTP/1.1\\r\\nAccept: text/xml,appli...\n",
       "16        /savehf.asp HTTP/1.1\\r\\nAccept: text/xml,appli...\n",
       "17        /savehf.asp HTTP/1.1\\r\\nAccept: text/xml,appli...\n",
       "18        /savehf.asp HTTP/1.1\\r\\nAccept: text/xml,appli...\n",
       "19        /savehf.asp HTTP/1.1\\r\\nAccept: text/xml,appli...\n",
       "20        /savehf.asp HTTP/1.1\\r\\nAccept: text/xml,appli...\n",
       "21        /savehf.asp HTTP/1.1\\r\\nAccept: text/xml,appli...\n",
       "22        /savehf.asp HTTP/1.1\\r\\nAccept: text/xml,appli...\n",
       "23        /savehf.asp HTTP/1.1\\r\\nAccept: text/xml,appli...\n",
       "24        /savehf.asp HTTP/1.1\\r\\nAccept: text/xml,appli...\n",
       "25        /savehf.asp HTTP/1.1\\r\\nAccept: text/xml,appli...\n",
       "26        /savehf.asp HTTP/1.1\\r\\nAccept: text/xml,appli...\n",
       "27        /savehf.asp HTTP/1.1\\r\\nAccept: text/xml,appli...\n",
       "28        /savehf.asp HTTP/1.1\\r\\nAccept: text/xml,appli...\n",
       "29        /savehf.asp HTTP/1.1\\r\\nAccept: text/xml,appli...\n",
       "                                ...                        \n",
       "145477                                           /~kmane/\\n\n",
       "145478                            /javascript/surveys.pfx\\n\n",
       "145479                             /predatorylendingmenu/\\n\n",
       "145480                                        /615956790/\\n\n",
       "145481                                          /mnumain/\\n\n",
       "145482                                           /boiler/\\n\n",
       "145483                                      /phil_jensen/\\n\n",
       "145484                                    /1165080920206/\\n\n",
       "145485    /dialogs/td.php?spaw_dir=http://192.168.202.11...\n",
       "145486                              /javascript/crack.jpg\\n\n",
       "145487                                      /topicbrowse/\\n\n",
       "145488                                          /3419580/\\n\n",
       "145489                                  /hockey_software/\\n\n",
       "145490                                          /n300967/\\n\n",
       "145491                                       /20050808-9/\\n\n",
       "145492                                 /javascript/01.rss\\n\n",
       "145493                              /procmail_mindspring/\\n\n",
       "145494                                    /counter_image/\\n\n",
       "145495                                /chinese valentine/\\n\n",
       "145496                                     /churchspeaks/\\n\n",
       "145497                                        /000026199/\\n\n",
       "145498                    /mastering windows xp registry/\\n\n",
       "145499                                          /6216848/\\n\n",
       "145500                                        /euro-sepg/\\n\n",
       "145501                                        /p0008798b/\\n\n",
       "145502                                        /thepaintr/\\n\n",
       "145503                                     /javascript/ie\\n\n",
       "145504                                         /16526331/\\n\n",
       "145505                                    /armycommander/\\n\n",
       "145506                                     /jacksoniandemo1\n",
       "Name: value, Length: 145507, dtype: object"
      ]
     },
     "execution_count": 8,
     "metadata": {},
     "output_type": "execute_result"
    }
   ],
   "source": [
    "x = data[\"value\"] #表示取第一列\n",
    "x"
   ]
  },
  {
   "cell_type": "code",
   "execution_count": 9,
   "metadata": {},
   "outputs": [
    {
     "data": {
      "text/plain": [
       "(145507, 120145)"
      ]
     },
     "execution_count": 9,
     "metadata": {},
     "output_type": "execute_result"
    }
   ],
   "source": [
    "tf = TfidfVectorizer() #文本矢量处理\n",
    "x = tf.fit_transform(x)\n",
    "x.shape"
   ]
  },
  {
   "cell_type": "code",
   "execution_count": 14,
   "metadata": {},
   "outputs": [
    {
     "name": "stderr",
     "output_type": "stream",
     "text": [
      "e:\\anaconda3\\lib\\site-packages\\sklearn\\model_selection\\_split.py:2026: FutureWarning: From version 0.21, test_size will always complement train_size unless both are specified.\n",
      "  FutureWarning)\n"
     ]
    }
   ],
   "source": [
    "y = data[\"tag\"]\n",
    "mydict = {'SQL注入攻击':1, 'XSS跨站脚本':2, 'normal':3}\n",
    "# 得到训练和测试数据集\n",
    "x_train, x_test, y_train, y_test = train_test_split(x,y,train_size=0.80)\n",
    "y_train = y_train.map(mydict) #把非字符型数据映射为字符型数据\n",
    "y_test = y_test.map(mydict)\n",
    "# x_train, x_test = train_test_split(x, test_size=0.2, random_state=2)\n",
    "# y_train, y_test = train_test_split(alldf[0], test_size=0.2, random_state=2)"
   ]
  },
  {
   "cell_type": "code",
   "execution_count": 15,
   "metadata": {},
   "outputs": [
    {
     "name": "stdout",
     "output_type": "stream",
     "text": [
      "    0.9975946670331935\n",
      "    [3 2 3 ... 3 3 3]\n"
     ]
    }
   ],
   "source": [
    "mnb = MultinomialNB()\n",
    "mnb.fit(x_train, y_train)\n",
    "print(\"   \",mnb.score(x_test, y_test))\n",
    "p_data = mnb.predict(x_test) #预测\n",
    "print(\"   \",p_data)"
   ]
  },
  {
   "cell_type": "code",
   "execution_count": null,
   "metadata": {},
   "outputs": [],
   "source": [
    "# 多项式朴素贝叶斯算法，Multinomial Naive Bayes，函数名，multinomialnb\n",
    "def mx_bayes(train_x, train_y):\n",
    "    mx = MultinomialNB(alpha=0.01)\n",
    "    mx.fit(train_x, train_y.astype('int'))\n",
    "    return mx\n",
    "\n",
    "# KNN近邻算法，函数名，KNeighborsClassifier\n",
    "def mx_knn(train_x, train_y):\n",
    "    mx = KNeighborsClassifier()\n",
    "    mx.fit(train_x, train_y)\n",
    "    return mx\n",
    "\n",
    "# 随机随机森林算法,random forest classifier，函数名,RandomForestClassifier\n",
    "def mx_forest(train_x, train_y):\n",
    "    mx = RandomForestClassifier(n_estimators=8)\n",
    "    mx.fit(train_x, train_y)\n",
    "    return mx\n",
    "\n",
    "# SVM向量机算法，函数名 SVC\n",
    "def mx_svm(train_x, train_y):\n",
    "    mx = SVC(kernel='rbf', probability=True)\n",
    "    mx.fit(train_x, train_y)\n",
    "    return mx\n",
    "\n",
    "# MLP神经网络算法\n",
    "def mx_MLP(train_x, train_y):\n",
    "    mx = MLPClassifier()\n",
    "    mx.fit(train_x, train_y)\n",
    "    return mx\n",
    "\n",
    "# 高斯贝叶斯\n",
    "def mx_GaussianNB(train_x, train_y):\n",
    "    mx = sklearn.naive_bayes.GaussianNB()\n",
    "    mx.fit(train_x, train_y)\n",
    "    return mx\n",
    "\n",
    "mxfunSgn = {'bayes': mx_bayes,\n",
    "            'knn': mx_knn,\n",
    "            'forest': mx_forest,\n",
    "            'svm': mx_svm,\n",
    "            'mlp': mx_MLP,\n",
    "            'GaussianNB': mx_GaussianNB\n",
    "            }\n",
    "\n",
    "resultlist = {}\n",
    "for k in mxfunSgn:\n",
    "    try:\n",
    "        mx = mxfunSgn[k](x_train, y_train)\n",
    "        score = mx.score(x_test, y_test)\n",
    "        pre_result = mx.predict(x_test)\n",
    "        print(\"     \",pre_result[:20])\n",
    "        print(\"     \",y_test[:20])\n",
    "        print(\"     \",k, score)\n",
    "        resultlist[k] = pre_result\n",
    "    except:\n",
    "        pre_result = 0\n",
    "        \n",
    "print(\"....max  :\", sorted(resultlist, key=lambda x:resultlist[x])[-1:],\n",
    "      resultlist[sorted(resultlist, key=lambda x:resultlist[x])[-1]])\n",
    "print(\"....nextmax  :\", sorted(resultlist, key=lambda x:resultlist[x])[-2],\n",
    "      resultlist[sorted(resultlist, key=lambda x:resultlist[x])[-2]])\n",
    "print(\"....thirdmax  :\", sorted(resultlist, key=lambda x:resultlist[x])[-3],\n",
    "      resultlist[sorted(resultlist, key=lambda x:resultlist[x])[-3]])"
   ]
  },
  {
   "cell_type": "code",
   "execution_count": null,
   "metadata": {},
   "outputs": [],
   "source": []
  }
 ],
 "metadata": {
  "kernelspec": {
   "display_name": "Python 3",
   "language": "python",
   "name": "python3"
  },
  "language_info": {
   "codemirror_mode": {
    "name": "ipython",
    "version": 3
   },
   "file_extension": ".py",
   "mimetype": "text/x-python",
   "name": "python",
   "nbconvert_exporter": "python",
   "pygments_lexer": "ipython3",
   "version": "3.6.4"
  }
 },
 "nbformat": 4,
 "nbformat_minor": 2
}
