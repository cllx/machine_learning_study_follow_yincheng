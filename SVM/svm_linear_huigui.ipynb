{
 "cells": [
  {
   "cell_type": "code",
   "execution_count": 7,
   "metadata": {},
   "outputs": [
    {
     "data": {
      "text/plain": [
       "array([[ 9.81357904],\n",
       "       [ 6.16803101],\n",
       "       [ 6.84468211],\n",
       "       [13.22439117],\n",
       "       [ 0.3843635 ],\n",
       "       [ 6.10335022],\n",
       "       [14.76304529],\n",
       "       [ 9.89666039],\n",
       "       [ 1.34073891],\n",
       "       [14.30830675],\n",
       "       [ 5.47861093],\n",
       "       [ 1.94766387],\n",
       "       [ 2.53808866],\n",
       "       [ 1.18019199],\n",
       "       [ 6.16126555],\n",
       "       [ 5.52751815],\n",
       "       [ 2.23724568],\n",
       "       [ 2.98552838],\n",
       "       [ 5.86863352],\n",
       "       [ 6.10754535],\n",
       "       [ 0.97454947],\n",
       "       [ 4.38723257],\n",
       "       [ 1.90271151],\n",
       "       [ 2.86859252],\n",
       "       [ 0.23264207],\n",
       "       [14.50146102],\n",
       "       [ 0.3217167 ],\n",
       "       [14.74218953],\n",
       "       [ 2.06591369],\n",
       "       [ 0.05542464],\n",
       "       [ 7.86088692],\n",
       "       [ 7.38029021],\n",
       "       [ 2.68553617],\n",
       "       [12.6408342 ],\n",
       "       [12.40264466],\n",
       "       [ 9.18695417],\n",
       "       [ 4.49828772],\n",
       "       [14.6571706 ],\n",
       "       [ 7.12923257],\n",
       "       [10.90627631],\n",
       "       [ 6.19238072],\n",
       "       [11.53642743],\n",
       "       [ 5.84852139],\n",
       "       [11.20431394],\n",
       "       [ 5.04779252],\n",
       "       [ 6.201807  ],\n",
       "       [ 1.47839211],\n",
       "       [11.10425923],\n",
       "       [ 3.68472389],\n",
       "       [ 7.48816265],\n",
       "       [ 2.43532185],\n",
       "       [ 5.70238225],\n",
       "       [ 2.43885827],\n",
       "       [12.49311764],\n",
       "       [12.11567577],\n",
       "       [14.73375863],\n",
       "       [ 1.82397992],\n",
       "       [12.87523597],\n",
       "       [ 2.31478278],\n",
       "       [ 9.17693404],\n",
       "       [ 6.34262612],\n",
       "       [ 1.2854351 ],\n",
       "       [ 1.81123645],\n",
       "       [ 1.6462949 ],\n",
       "       [10.25468615],\n",
       "       [ 6.54419482],\n",
       "       [ 9.66374302],\n",
       "       [ 8.37705574],\n",
       "       [ 2.20886605],\n",
       "       [ 2.88459698],\n",
       "       [11.3656872 ],\n",
       "       [ 2.41202669],\n",
       "       [ 8.07959394],\n",
       "       [ 7.70861795],\n",
       "       [ 8.09406176],\n",
       "       [ 2.99376933],\n",
       "       [10.00122409],\n",
       "       [ 6.45163298],\n",
       "       [ 7.94549573],\n",
       "       [ 5.86105258],\n",
       "       [13.95736772],\n",
       "       [ 5.04724925],\n",
       "       [ 7.15822374],\n",
       "       [ 9.96551535],\n",
       "       [ 9.03501701],\n",
       "       [ 3.36390623],\n",
       "       [10.37574412],\n",
       "       [ 5.14031698],\n",
       "       [ 5.68382865],\n",
       "       [12.86509747],\n",
       "       [ 9.72243598],\n",
       "       [ 4.55215421],\n",
       "       [ 3.19841707],\n",
       "       [ 3.60923016],\n",
       "       [10.9292171 ],\n",
       "       [ 3.69904718],\n",
       "       [ 5.29260526],\n",
       "       [10.86501641],\n",
       "       [11.63894688],\n",
       "       [14.62635532],\n",
       "       [11.65723454],\n",
       "       [13.92132602],\n",
       "       [ 8.70333183],\n",
       "       [11.23167522],\n",
       "       [14.94579118],\n",
       "       [10.34992288],\n",
       "       [ 3.06008092],\n",
       "       [ 6.64319209],\n",
       "       [14.63249539],\n",
       "       [ 4.78347426],\n",
       "       [ 4.3009588 ],\n",
       "       [ 6.71630444],\n",
       "       [ 2.55904074],\n",
       "       [ 3.93902163],\n",
       "       [ 7.27256951],\n",
       "       [ 5.52526337],\n",
       "       [10.60087996],\n",
       "       [11.63616641],\n",
       "       [ 9.09943102],\n",
       "       [ 8.10956092]])"
      ]
     },
     "execution_count": 7,
     "metadata": {},
     "output_type": "execute_result"
    }
   ],
   "source": [
    "from sklearn.svm import SVR #svm回归\n",
    "from sklearn.svm import LinearSVC #线性\n",
    "import sklearn.datasets as datasets\n",
    "import numpy as np\n",
    "import matplotlib.pyplot as plt\n",
    "%matplotlib inline\n",
    "\n",
    "x = np.random.rand(120, 1)*15\n",
    "x"
   ]
  },
  {
   "cell_type": "code",
   "execution_count": 8,
   "metadata": {},
   "outputs": [
    {
     "data": {
      "text/plain": [
       "array([[ 0.05542464],\n",
       "       [ 0.23264207],\n",
       "       [ 0.3217167 ],\n",
       "       [ 0.3843635 ],\n",
       "       [ 0.97454947],\n",
       "       [ 1.18019199],\n",
       "       [ 1.2854351 ],\n",
       "       [ 1.34073891],\n",
       "       [ 1.47839211],\n",
       "       [ 1.6462949 ],\n",
       "       [ 1.81123645],\n",
       "       [ 1.82397992],\n",
       "       [ 1.90271151],\n",
       "       [ 1.94766387],\n",
       "       [ 2.06591369],\n",
       "       [ 2.20886605],\n",
       "       [ 2.23724568],\n",
       "       [ 2.31478278],\n",
       "       [ 2.41202669],\n",
       "       [ 2.43532185],\n",
       "       [ 2.43885827],\n",
       "       [ 2.53808866],\n",
       "       [ 2.55904074],\n",
       "       [ 2.68553617],\n",
       "       [ 2.86859252],\n",
       "       [ 2.88459698],\n",
       "       [ 2.98552838],\n",
       "       [ 2.99376933],\n",
       "       [ 3.06008092],\n",
       "       [ 3.19841707],\n",
       "       [ 3.36390623],\n",
       "       [ 3.60923016],\n",
       "       [ 3.68472389],\n",
       "       [ 3.69904718],\n",
       "       [ 3.93902163],\n",
       "       [ 4.3009588 ],\n",
       "       [ 4.38723257],\n",
       "       [ 4.49828772],\n",
       "       [ 4.55215421],\n",
       "       [ 4.78347426],\n",
       "       [ 5.04724925],\n",
       "       [ 5.04779252],\n",
       "       [ 5.14031698],\n",
       "       [ 5.29260526],\n",
       "       [ 5.47861093],\n",
       "       [ 5.52526337],\n",
       "       [ 5.52751815],\n",
       "       [ 5.68382865],\n",
       "       [ 5.70238225],\n",
       "       [ 5.84852139],\n",
       "       [ 5.86105258],\n",
       "       [ 5.86863352],\n",
       "       [ 6.10335022],\n",
       "       [ 6.10754535],\n",
       "       [ 6.16126555],\n",
       "       [ 6.16803101],\n",
       "       [ 6.19238072],\n",
       "       [ 6.201807  ],\n",
       "       [ 6.34262612],\n",
       "       [ 6.45163298],\n",
       "       [ 6.54419482],\n",
       "       [ 6.64319209],\n",
       "       [ 6.71630444],\n",
       "       [ 6.84468211],\n",
       "       [ 7.12923257],\n",
       "       [ 7.15822374],\n",
       "       [ 7.27256951],\n",
       "       [ 7.38029021],\n",
       "       [ 7.48816265],\n",
       "       [ 7.70861795],\n",
       "       [ 7.86088692],\n",
       "       [ 7.94549573],\n",
       "       [ 8.07959394],\n",
       "       [ 8.09406176],\n",
       "       [ 8.10956092],\n",
       "       [ 8.37705574],\n",
       "       [ 8.70333183],\n",
       "       [ 9.03501701],\n",
       "       [ 9.09943102],\n",
       "       [ 9.17693404],\n",
       "       [ 9.18695417],\n",
       "       [ 9.66374302],\n",
       "       [ 9.72243598],\n",
       "       [ 9.81357904],\n",
       "       [ 9.89666039],\n",
       "       [ 9.96551535],\n",
       "       [10.00122409],\n",
       "       [10.25468615],\n",
       "       [10.34992288],\n",
       "       [10.37574412],\n",
       "       [10.60087996],\n",
       "       [10.86501641],\n",
       "       [10.90627631],\n",
       "       [10.9292171 ],\n",
       "       [11.10425923],\n",
       "       [11.20431394],\n",
       "       [11.23167522],\n",
       "       [11.3656872 ],\n",
       "       [11.53642743],\n",
       "       [11.63616641],\n",
       "       [11.63894688],\n",
       "       [11.65723454],\n",
       "       [12.11567577],\n",
       "       [12.40264466],\n",
       "       [12.49311764],\n",
       "       [12.6408342 ],\n",
       "       [12.86509747],\n",
       "       [12.87523597],\n",
       "       [13.22439117],\n",
       "       [13.92132602],\n",
       "       [13.95736772],\n",
       "       [14.30830675],\n",
       "       [14.50146102],\n",
       "       [14.62635532],\n",
       "       [14.63249539],\n",
       "       [14.6571706 ],\n",
       "       [14.73375863],\n",
       "       [14.74218953],\n",
       "       [14.76304529],\n",
       "       [14.94579118]])"
      ]
     },
     "execution_count": 8,
     "metadata": {},
     "output_type": "execute_result"
    }
   ],
   "source": [
    "x_train = np.sort(x, axis=0)\n",
    "x_train"
   ]
  },
  {
   "cell_type": "code",
   "execution_count": 9,
   "metadata": {},
   "outputs": [
    {
     "data": {
      "text/plain": [
       "[<matplotlib.lines.Line2D at 0x28429efb9b0>]"
      ]
     },
     "execution_count": 9,
     "metadata": {},
     "output_type": "execute_result"
    },
    {
     "data": {
      "image/png": "[encoded data removed]",
      "text/plain": [
       "<Figure size 432x288 with 1 Axes>"
      ]
     },
     "metadata": {},
     "output_type": "display_data"
    }
   ],
   "source": [
    "y_train = np.sin(x_train)\n",
    "plt.plot(x_train, y_train)"
   ]
  },
  {
   "cell_type": "code",
   "execution_count": 10,
   "metadata": {},
   "outputs": [
    {
     "data": {
      "text/plain": [
       "array([[-0.20101016],\n",
       "       [ 0.23054922],\n",
       "       [ 0.31619565],\n",
       "       [ 0.37496915],\n",
       "       [ 0.82744898],\n",
       "       [ 1.12365407],\n",
       "       [ 0.95956003],\n",
       "       [ 0.9736533 ],\n",
       "       [ 0.99573377],\n",
       "       [ 0.99715134],\n",
       "       [ 0.55020806],\n",
       "       [ 0.96811988],\n",
       "       [ 0.94542001],\n",
       "       [ 0.92982197],\n",
       "       [ 0.87991295],\n",
       "       [-0.85792785],\n",
       "       [ 0.78602163],\n",
       "       [ 0.73577468],\n",
       "       [ 0.66654614],\n",
       "       [ 0.64900116],\n",
       "       [ 1.08147825],\n",
       "       [ 0.56753097],\n",
       "       [ 0.55015673],\n",
       "       [ 0.44041107],\n",
       "       [ 0.26962168],\n",
       "       [ 2.02641062],\n",
       "       [ 0.15543152],\n",
       "       [ 0.14728555],\n",
       "       [ 0.0814215 ],\n",
       "       [-0.05679384],\n",
       "       [ 0.51590425],\n",
       "       [-0.4507787 ],\n",
       "       [-0.51681916],\n",
       "       [-0.52902781],\n",
       "       [-0.71556248],\n",
       "       [ 0.90297501],\n",
       "       [-0.94760077],\n",
       "       [-0.97716774],\n",
       "       [-0.98718985],\n",
       "       [-0.99747451],\n",
       "       [-1.38461646],\n",
       "       [-0.94427756],\n",
       "       [-0.90982755],\n",
       "       [-0.8363441 ],\n",
       "       [-0.72053558],\n",
       "       [ 0.87766183],\n",
       "       [-0.68577439],\n",
       "       [-0.56411139],\n",
       "       [-0.54869549],\n",
       "       [-0.42110559],\n",
       "       [-0.57070805],\n",
       "       [-0.40277972],\n",
       "       [-0.17886733],\n",
       "       [-0.17473828],\n",
       "       [-0.12161793],\n",
       "       [-0.86332322],\n",
       "       [-0.09067985],\n",
       "       [-0.08128852],\n",
       "       [ 0.05940581],\n",
       "       [ 0.16765219],\n",
       "       [ 1.7665517 ],\n",
       "       [ 0.35228058],\n",
       "       [ 0.41970396],\n",
       "       [ 0.53245377],\n",
       "       [ 0.7486658 ],\n",
       "       [ 1.03137263],\n",
       "       [ 0.83568794],\n",
       "       [ 0.88989042],\n",
       "       [ 0.93383111],\n",
       "       [ 0.98945329],\n",
       "       [ 1.27418375],\n",
       "       [ 0.99581551],\n",
       "       [ 0.97465732],\n",
       "       [ 0.97131893],\n",
       "       [ 0.96751701],\n",
       "       [ 0.28330268],\n",
       "       [ 0.66047119],\n",
       "       [ 0.3799673 ],\n",
       "       [ 0.31963755],\n",
       "       [ 0.24531433],\n",
       "       [ 1.11964732],\n",
       "       [-0.23669722],\n",
       "       [-0.29328201],\n",
       "       [-0.37907925],\n",
       "       [-0.4545638 ],\n",
       "       [ 0.28715642],\n",
       "       [-0.5450478 ],\n",
       "       [-0.7378694 ],\n",
       "       [-0.79870797],\n",
       "       [-0.81397712],\n",
       "       [-0.9814735 ],\n",
       "       [-0.99148942],\n",
       "       [-0.99601558],\n",
       "       [-0.99779917],\n",
       "       [-0.9940996 ],\n",
       "       [-2.50344017],\n",
       "       [-0.97225741],\n",
       "       [-0.93228651],\n",
       "       [-0.85726974],\n",
       "       [-0.80174201],\n",
       "       [-2.62203032],\n",
       "       [-0.78897321],\n",
       "       [-0.4355911 ],\n",
       "       [-0.16299546],\n",
       "       [-0.07318748],\n",
       "       [ 0.29381223],\n",
       "       [ 0.29430368],\n",
       "       [ 0.30397788],\n",
       "       [ 0.61155191],\n",
       "       [ 0.97679664],\n",
       "       [-0.13798345],\n",
       "       [ 0.98539129],\n",
       "       [ 0.93437551],\n",
       "       [ 0.88271454],\n",
       "       [ 0.87981264],\n",
       "       [-0.46629965],\n",
       "       [ 0.82725529],\n",
       "       [ 0.82248925],\n",
       "       [ 0.81044889],\n",
       "       [ 0.69049422]])"
      ]
     },
     "execution_count": 10,
     "metadata": {},
     "output_type": "execute_result"
    }
   ],
   "source": [
    "y_train[::5] += np.random.randn(24, 1)\n",
    "y_train"
   ]
  },
  {
   "cell_type": "code",
   "execution_count": 11,
   "metadata": {},
   "outputs": [
    {
     "data": {
      "text/plain": [
       "[<matplotlib.lines.Line2D at 0x28429bece10>]"
      ]
     },
     "execution_count": 11,
     "metadata": {},
     "output_type": "execute_result"
    },
    {
     "data": {
      "image/png": "[encoded data removed]",
      "text/plain": [
       "<Figure size 432x288 with 1 Axes>"
      ]
     },
     "metadata": {},
     "output_type": "display_data"
    }
   ],
   "source": [
    "plt.plot(x_train, y_train)"
   ]
  },
  {
   "cell_type": "code",
   "execution_count": 12,
   "metadata": {},
   "outputs": [
    {
     "data": {
      "text/plain": [
       "(-3, 3)"
      ]
     },
     "execution_count": 12,
     "metadata": {},
     "output_type": "execute_result"
    },
    {
     "data": {
      "image/png": "[encoded data removed]",
      "text/plain": [
       "<Figure size 432x288 with 1 Axes>"
      ]
     },
     "metadata": {},
     "output_type": "display_data"
    }
   ],
   "source": [
    "plt.scatter(x_train, y_train)\n",
    "plt.ylim(-3, 3)"
   ]
  },
  {
   "cell_type": "code",
   "execution_count": 13,
   "metadata": {},
   "outputs": [],
   "source": [
    "svr_linear = SVR(kernel=\"linear\")\n",
    "svr_rbf = SVR(kernel=\"rbf\")\n",
    "svr_poly = SVR(kernel=\"poly\") #三个线性回归"
   ]
  },
  {
   "cell_type": "code",
   "execution_count": 15,
   "metadata": {},
   "outputs": [
    {
     "data": {
      "text/plain": [
       "array([[0.000e+00],\n",
       "       [1.000e-02],\n",
       "       [2.000e-02],\n",
       "       ...,\n",
       "       [1.497e+01],\n",
       "       [1.498e+01],\n",
       "       [1.499e+01]])"
      ]
     },
     "execution_count": 15,
     "metadata": {},
     "output_type": "execute_result"
    }
   ],
   "source": [
    "x_test = np.arange(0, 15, 0.01)[:, np.newaxis]\n",
    "x_test"
   ]
  },
  {
   "cell_type": "code",
   "execution_count": 16,
   "metadata": {},
   "outputs": [],
   "source": [
    "linear_y = svr_linear.fit(x_train, y_train.ravel()).predict(x_test)\n",
    "rbf_y = svr_rbf.fit(x_train, y_train.ravel()).predict(x_test)\n",
    "poly_y = svr_poly.fit(x_train, y_train.ravel()).predict(x_test) #预测的数据"
   ]
  },
  {
   "cell_type": "code",
   "execution_count": 17,
   "metadata": {},
   "outputs": [
    {
     "data": {
      "text/plain": [
       "<matplotlib.legend.Legend at 0x2842a425a58>"
      ]
     },
     "execution_count": 17,
     "metadata": {},
     "output_type": "execute_result"
    },
    {
     "data": {
      "image/png": "[encoded data removed]",
      "text/plain": [
       "<Figure size 576x432 with 1 Axes>"
      ]
     },
     "metadata": {},
     "output_type": "display_data"
    }
   ],
   "source": [
    "plt.figure(figsize=(8,6))\n",
    "plt.scatter(x_train, y_train)\n",
    "plt.plot(x_test, linear_y, label=\"linear\")\n",
    "plt.plot(x_test, rbf_y, label=\"rbf\")\n",
    "plt.plot(x_test, poly_y, label=\"poly\")\n",
    "plt.legend()"
   ]
  },
  {
   "cell_type": "code",
   "execution_count": null,
   "metadata": {},
   "outputs": [],
   "source": []
  }
 ],
 "metadata": {
  "kernelspec": {
   "display_name": "Python 3",
   "language": "python",
   "name": "python3"
  },
  "language_info": {
   "codemirror_mode": {
    "name": "ipython",
    "version": 3
   },
   "file_extension": ".py",
   "mimetype": "text/x-python",
   "name": "python",
   "nbconvert_exporter": "python",
   "pygments_lexer": "ipython3",
   "version": "3.6.4"
  }
 },
 "nbformat": 4,
 "nbformat_minor": 2
}
